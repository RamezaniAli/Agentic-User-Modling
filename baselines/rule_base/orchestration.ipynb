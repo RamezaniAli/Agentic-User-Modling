{
 "cells": [
  {
   "cell_type": "code",
   "execution_count": 1,
   "id": "6a6a7d9e",
   "metadata": {},
   "outputs": [],
   "source": [
    "import sys\n",
    "import os\n",
    "\n",
    "sys.path.append(os.path.abspath('../..'))"
   ]
  },
  {
   "cell_type": "code",
   "execution_count": 4,
   "id": "260370ec",
   "metadata": {},
   "outputs": [],
   "source": [
    "import pandas as pd\n",
    "import json\n",
    "import os\n",
    "from tqdm.notebook import tqdm, trange\n",
    "from baselines.rule_base.run_rule_base import run_rule_based_baseline"
   ]
  },
  {
   "cell_type": "markdown",
   "id": "49efd755",
   "metadata": {},
   "source": [
    "# Run"
   ]
  },
  {
   "cell_type": "code",
   "execution_count": 5,
   "id": "7d40043b",
   "metadata": {},
   "outputs": [
    {
     "name": "stdout",
     "output_type": "stream",
     "text": [
      "u_01.jsonl: 94 lines\n",
      "u_06.jsonl: 108 lines\n",
      "u_08.jsonl: 110 lines\n",
      "u_10.jsonl: 96 lines\n",
      "u_11.jsonl: 91 lines\n",
      "u_12.jsonl: 98 lines\n",
      "u_14.jsonl: 106 lines\n",
      "u_19.jsonl: 103 lines\n",
      "u_44.jsonl: 100 lines\n"
     ]
    }
   ],
   "source": [
    "dir_path = \"data/input\"\n",
    "files = os.listdir(dir_path)\n",
    "\n",
    "for fname in sorted(files):\n",
    "    file_path = os.path.join(dir_path, fname)\n",
    "    with open(file_path, \"r\", encoding=\"utf-8\") as f:\n",
    "        num_lines = sum(1 for _ in f)\n",
    "    print(f\"{fname}: {num_lines} lines\")\n"
   ]
  },
  {
   "cell_type": "markdown",
   "id": "5b31c959",
   "metadata": {},
   "source": [
    "Start index:\n",
    "\n",
    "10 - 11 - 12 ==> 51\n",
    "\n",
    "14 - 19 - 44 ==> 21\n",
    "\n",
    "01 - 06 - 08 ==> 0"
   ]
  },
  {
   "cell_type": "code",
   "execution_count": 10,
   "id": "3401620c",
   "metadata": {},
   "outputs": [
    {
     "name": "stdout",
     "output_type": "stream",
     "text": [
      "Loading data from data/input/u_01.jsonl...\n",
      "Loaded 94 interactions\n",
      "Initializing output file with first 0 interactions...\n",
      "Processing 94 interactions starting from index 0\n",
      "Created 19 batches of size 5\n"
     ]
    },
    {
     "name": "stderr",
     "output_type": "stream",
     "text": [
      "Processing batches:   0%|          | 0/19 [00:00<?, ?it/s]"
     ]
    },
    {
     "name": "stdout",
     "output_type": "stream",
     "text": [
      "\n",
      "==================================================\n",
      "Processing Batch 1/19 (5 interactions)\n",
      "==================================================\n"
     ]
    },
    {
     "name": "stderr",
     "output_type": "stream",
     "text": [
      "Making predictions: 100%|██████████| 5/5 [00:00<00:00, 85250.08it/s]\n"
     ]
    },
    {
     "name": "stdout",
     "output_type": "stream",
     "text": [
      "💾 Writing batch 1 (5 interactions) to output file...\n",
      "  📊 Batch 1 Stats:\n",
      "      Average Predicted Rating: 3.00\n",
      "      Average True Rating: 3.00\n",
      "      Prediction Error (MAE): 0.00\n",
      "\n",
      "==================================================\n",
      "Processing Batch 2/19 (5 interactions)\n",
      "==================================================\n"
     ]
    },
    {
     "name": "stderr",
     "output_type": "stream",
     "text": [
      "Making predictions: 100%|██████████| 5/5 [00:00<00:00, 36535.75it/s]\n"
     ]
    },
    {
     "name": "stdout",
     "output_type": "stream",
     "text": [
      "💾 Writing batch 2 (5 interactions) to output file...\n",
      "  📊 Batch 2 Stats:\n",
      "      Average Predicted Rating: 3.00\n",
      "      Average True Rating: 3.80\n",
      "      Prediction Error (MAE): 0.80\n",
      "\n",
      "==================================================\n",
      "Processing Batch 3/19 (5 interactions)\n",
      "==================================================\n"
     ]
    },
    {
     "name": "stderr",
     "output_type": "stream",
     "text": [
      "Making predictions: 100%|██████████| 5/5 [00:00<00:00, 68311.14it/s]\n"
     ]
    },
    {
     "name": "stdout",
     "output_type": "stream",
     "text": [
      "💾 Writing batch 3 (5 interactions) to output file...\n",
      "  📊 Batch 3 Stats:\n",
      "      Average Predicted Rating: 3.40\n",
      "      Average True Rating: 4.40\n",
      "      Prediction Error (MAE): 1.00\n",
      "\n",
      "==================================================\n",
      "Processing Batch 4/19 (5 interactions)\n",
      "==================================================\n"
     ]
    },
    {
     "name": "stderr",
     "output_type": "stream",
     "text": [
      "Making predictions: 100%|██████████| 5/5 [00:00<00:00, 36986.81it/s]\n"
     ]
    },
    {
     "name": "stdout",
     "output_type": "stream",
     "text": [
      "💾 Writing batch 4 (5 interactions) to output file...\n",
      "  📊 Batch 4 Stats:\n",
      "      Average Predicted Rating: 3.73\n",
      "      Average True Rating: 3.00\n",
      "      Prediction Error (MAE): 0.73\n",
      "\n",
      "==================================================\n",
      "Processing Batch 5/19 (5 interactions)\n",
      "==================================================\n"
     ]
    },
    {
     "name": "stderr",
     "output_type": "stream",
     "text": [
      "Making predictions: 100%|██████████| 5/5 [00:00<00:00, 65948.18it/s]\n"
     ]
    },
    {
     "name": "stdout",
     "output_type": "stream",
     "text": [
      "💾 Writing batch 5 (5 interactions) to output file...\n",
      "  📊 Batch 5 Stats:\n",
      "      Average Predicted Rating: 3.55\n",
      "      Average True Rating: 3.40\n",
      "      Prediction Error (MAE): 0.15\n",
      "\n",
      "==================================================\n",
      "Processing Batch 6/19 (5 interactions)\n",
      "==================================================\n"
     ]
    },
    {
     "name": "stderr",
     "output_type": "stream",
     "text": [
      "Making predictions: 100%|██████████| 5/5 [00:00<00:00, 81284.96it/s]\n"
     ]
    },
    {
     "name": "stdout",
     "output_type": "stream",
     "text": [
      "💾 Writing batch 6 (5 interactions) to output file...\n",
      "  📊 Batch 6 Stats:\n",
      "      Average Predicted Rating: 3.52\n",
      "      Average True Rating: 4.60\n",
      "      Prediction Error (MAE): 1.08\n",
      "\n",
      "==================================================\n",
      "Processing Batch 7/19 (5 interactions)\n",
      "==================================================\n"
     ]
    },
    {
     "name": "stderr",
     "output_type": "stream",
     "text": [
      "Making predictions: 100%|██████████| 5/5 [00:00<00:00, 75437.12it/s]\n"
     ]
    },
    {
     "name": "stdout",
     "output_type": "stream",
     "text": [
      "💾 Writing batch 7 (5 interactions) to output file...\n",
      "  📊 Batch 7 Stats:\n",
      "      Average Predicted Rating: 3.70\n",
      "      Average True Rating: 2.80\n",
      "      Prediction Error (MAE): 0.90\n",
      "\n",
      "==================================================\n",
      "Processing Batch 8/19 (5 interactions)\n",
      "==================================================\n"
     ]
    },
    {
     "name": "stderr",
     "output_type": "stream",
     "text": [
      "Making predictions: 100%|██████████| 5/5 [00:00<00:00, 75709.46it/s]\n"
     ]
    },
    {
     "name": "stdout",
     "output_type": "stream",
     "text": [
      "💾 Writing batch 8 (5 interactions) to output file...\n",
      "  📊 Batch 8 Stats:\n",
      "      Average Predicted Rating: 3.57\n",
      "      Average True Rating: 3.80\n",
      "      Prediction Error (MAE): 0.23\n",
      "\n",
      "==================================================\n",
      "Processing Batch 9/19 (5 interactions)\n",
      "==================================================\n"
     ]
    },
    {
     "name": "stderr",
     "output_type": "stream",
     "text": [
      "Making predictions: 100%|██████████| 5/5 [00:00<00:00, 90394.48it/s]\n"
     ]
    },
    {
     "name": "stdout",
     "output_type": "stream",
     "text": [
      "💾 Writing batch 9 (5 interactions) to output file...\n",
      "  📊 Batch 9 Stats:\n",
      "      Average Predicted Rating: 3.60\n",
      "      Average True Rating: 3.00\n",
      "      Prediction Error (MAE): 0.60\n",
      "\n",
      "==================================================\n",
      "Processing Batch 10/19 (5 interactions)\n",
      "==================================================\n"
     ]
    },
    {
     "name": "stderr",
     "output_type": "stream",
     "text": [
      "Making predictions: 100%|██████████| 5/5 [00:00<00:00, 49932.19it/s]\n"
     ]
    },
    {
     "name": "stdout",
     "output_type": "stream",
     "text": [
      "💾 Writing batch 10 (5 interactions) to output file...\n",
      "  📊 Batch 10 Stats:\n",
      "      Average Predicted Rating: 3.53\n",
      "      Average True Rating: 3.40\n",
      "      Prediction Error (MAE): 0.13\n",
      "\n",
      "==================================================\n",
      "Processing Batch 11/19 (5 interactions)\n",
      "==================================================\n"
     ]
    },
    {
     "name": "stderr",
     "output_type": "stream",
     "text": [
      "Making predictions: 100%|██████████| 5/5 [00:00<00:00, 47989.75it/s]\n"
     ]
    },
    {
     "name": "stdout",
     "output_type": "stream",
     "text": [
      "💾 Writing batch 11 (5 interactions) to output file...\n",
      "  📊 Batch 11 Stats:\n",
      "      Average Predicted Rating: 3.52\n",
      "      Average True Rating: 5.00\n",
      "      Prediction Error (MAE): 1.48\n",
      "\n",
      "==================================================\n",
      "Processing Batch 12/19 (5 interactions)\n",
      "==================================================\n"
     ]
    },
    {
     "name": "stderr",
     "output_type": "stream",
     "text": [
      "Making predictions: 100%|██████████| 5/5 [00:00<00:00, 79739.62it/s]\n"
     ]
    },
    {
     "name": "stdout",
     "output_type": "stream",
     "text": [
      "💾 Writing batch 12 (5 interactions) to output file...\n",
      "  📊 Batch 12 Stats:\n",
      "      Average Predicted Rating: 3.65\n",
      "      Average True Rating: 4.80\n",
      "      Prediction Error (MAE): 1.15\n",
      "\n",
      "==================================================\n",
      "Processing Batch 13/19 (5 interactions)\n",
      "==================================================\n"
     ]
    },
    {
     "name": "stderr",
     "output_type": "stream",
     "text": [
      "Making predictions: 100%|██████████| 5/5 [00:00<00:00, 85948.85it/s]\n"
     ]
    },
    {
     "name": "stdout",
     "output_type": "stream",
     "text": [
      "💾 Writing batch 13 (5 interactions) to output file...\n",
      "  📊 Batch 13 Stats:\n",
      "      Average Predicted Rating: 3.75\n",
      "      Average True Rating: 2.40\n",
      "      Prediction Error (MAE): 1.35\n",
      "\n",
      "==================================================\n",
      "Processing Batch 14/19 (5 interactions)\n",
      "==================================================\n"
     ]
    },
    {
     "name": "stderr",
     "output_type": "stream",
     "text": [
      "Making predictions: 100%|██████████| 5/5 [00:00<00:00, 75709.46it/s]\n"
     ]
    },
    {
     "name": "stdout",
     "output_type": "stream",
     "text": [
      "💾 Writing batch 14 (5 interactions) to output file...\n",
      "  📊 Batch 14 Stats:\n",
      "      Average Predicted Rating: 3.65\n",
      "      Average True Rating: 3.00\n",
      "      Prediction Error (MAE): 0.65\n",
      "\n",
      "==================================================\n",
      "Processing Batch 15/19 (5 interactions)\n",
      "==================================================\n"
     ]
    },
    {
     "name": "stderr",
     "output_type": "stream",
     "text": [
      "Making predictions: 100%|██████████| 5/5 [00:00<00:00, 88115.63it/s]\n"
     ]
    },
    {
     "name": "stdout",
     "output_type": "stream",
     "text": [
      "💾 Writing batch 15 (5 interactions) to output file...\n",
      "  📊 Batch 15 Stats:\n",
      "      Average Predicted Rating: 3.60\n",
      "      Average True Rating: 2.80\n",
      "      Prediction Error (MAE): 0.80\n",
      "\n",
      "==================================================\n",
      "Processing Batch 16/19 (5 interactions)\n",
      "==================================================\n"
     ]
    },
    {
     "name": "stderr",
     "output_type": "stream",
     "text": [
      "Making predictions: 100%|██████████| 5/5 [00:00<00:00, 31161.25it/s]\n"
     ]
    },
    {
     "name": "stdout",
     "output_type": "stream",
     "text": [
      "💾 Writing batch 16 (5 interactions) to output file...\n",
      "  📊 Batch 16 Stats:\n",
      "      Average Predicted Rating: 3.55\n",
      "      Average True Rating: 3.20\n",
      "      Prediction Error (MAE): 0.35\n",
      "\n",
      "==================================================\n",
      "Processing Batch 17/19 (5 interactions)\n",
      "==================================================\n"
     ]
    },
    {
     "name": "stderr",
     "output_type": "stream",
     "text": [
      "Making predictions: 100%|██████████| 5/5 [00:00<00:00, 66788.28it/s]\n"
     ]
    },
    {
     "name": "stdout",
     "output_type": "stream",
     "text": [
      "💾 Writing batch 17 (5 interactions) to output file...\n",
      "  📊 Batch 17 Stats:\n",
      "      Average Predicted Rating: 3.52\n",
      "      Average True Rating: 1.80\n",
      "      Prediction Error (MAE): 1.72\n",
      "\n",
      "==================================================\n",
      "Processing Batch 18/19 (5 interactions)\n",
      "==================================================\n"
     ]
    },
    {
     "name": "stderr",
     "output_type": "stream",
     "text": [
      "Making predictions: 100%|██████████| 5/5 [00:00<00:00, 78840.30it/s]\n"
     ]
    },
    {
     "name": "stdout",
     "output_type": "stream",
     "text": [
      "💾 Writing batch 18 (5 interactions) to output file...\n",
      "  📊 Batch 18 Stats:\n",
      "      Average Predicted Rating: 3.42\n",
      "      Average True Rating: 3.00\n",
      "      Prediction Error (MAE): 0.42\n",
      "\n",
      "==================================================\n",
      "Processing Batch 19/19 (4 interactions)\n",
      "==================================================\n"
     ]
    },
    {
     "name": "stderr",
     "output_type": "stream",
     "text": [
      "Making predictions: 100%|██████████| 4/4 [00:00<00:00, 66052.03it/s]\n",
      "Processing batches: 100%|██████████| 19/19 [00:00<00:00, 269.93it/s]\n"
     ]
    },
    {
     "name": "stdout",
     "output_type": "stream",
     "text": [
      "💾 Writing batch 19 (4 interactions) to output file...\n",
      "  📊 Batch 19 Stats:\n",
      "      Average Predicted Rating: 3.40\n",
      "      Average True Rating: 5.00\n",
      "      Prediction Error (MAE): 1.60\n",
      "✓ Rule-based baseline processing completed successfully!\n",
      "📊 Final Stats:\n",
      "    Total interactions processed: 94\n",
      "    Start index: 0\n",
      "    Overall Average Predicted Rating: 3.51\n",
      "    Overall Average True Rating: 3.47\n",
      "    Overall Prediction Error (MAE): 0.04\n",
      "Loading data from data/input/u_06.jsonl...\n",
      "Loaded 108 interactions\n",
      "Initializing output file with first 0 interactions...\n",
      "Processing 108 interactions starting from index 0\n",
      "Created 22 batches of size 5\n"
     ]
    },
    {
     "name": "stderr",
     "output_type": "stream",
     "text": [
      "Processing batches:   0%|          | 0/22 [00:00<?, ?it/s]"
     ]
    },
    {
     "name": "stdout",
     "output_type": "stream",
     "text": [
      "\n",
      "==================================================\n",
      "Processing Batch 1/22 (5 interactions)\n",
      "==================================================\n"
     ]
    },
    {
     "name": "stderr",
     "output_type": "stream",
     "text": [
      "Making predictions: 100%|██████████| 5/5 [00:00<00:00, 64329.82it/s]\n"
     ]
    },
    {
     "name": "stdout",
     "output_type": "stream",
     "text": [
      "💾 Writing batch 1 (5 interactions) to output file...\n",
      "  📊 Batch 1 Stats:\n",
      "      Average Predicted Rating: 3.00\n",
      "      Average True Rating: 3.00\n",
      "      Prediction Error (MAE): 0.00\n",
      "\n",
      "==================================================\n",
      "Processing Batch 2/22 (5 interactions)\n",
      "==================================================\n"
     ]
    },
    {
     "name": "stderr",
     "output_type": "stream",
     "text": [
      "Making predictions: 100%|██████████| 5/5 [00:00<00:00, 79437.58it/s]\n"
     ]
    },
    {
     "name": "stdout",
     "output_type": "stream",
     "text": [
      "💾 Writing batch 2 (5 interactions) to output file...\n",
      "  📊 Batch 2 Stats:\n",
      "      Average Predicted Rating: 3.00\n",
      "      Average True Rating: 4.00\n",
      "      Prediction Error (MAE): 1.00\n",
      "\n",
      "==================================================\n",
      "Processing Batch 3/22 (5 interactions)\n",
      "==================================================\n"
     ]
    },
    {
     "name": "stderr",
     "output_type": "stream",
     "text": [
      "Making predictions: 100%|██████████| 5/5 [00:00<00:00, 78840.30it/s]\n"
     ]
    },
    {
     "name": "stdout",
     "output_type": "stream",
     "text": [
      "💾 Writing batch 3 (5 interactions) to output file...\n",
      "  📊 Batch 3 Stats:\n",
      "      Average Predicted Rating: 3.50\n",
      "      Average True Rating: 4.20\n",
      "      Prediction Error (MAE): 0.70\n",
      "\n",
      "==================================================\n",
      "Processing Batch 4/22 (5 interactions)\n",
      "==================================================\n"
     ]
    },
    {
     "name": "stderr",
     "output_type": "stream",
     "text": [
      "Making predictions: 100%|██████████| 5/5 [00:00<00:00, 81284.96it/s]\n"
     ]
    },
    {
     "name": "stdout",
     "output_type": "stream",
     "text": [
      "💾 Writing batch 4 (5 interactions) to output file...\n",
      "  📊 Batch 4 Stats:\n",
      "      Average Predicted Rating: 3.73\n",
      "      Average True Rating: 2.60\n",
      "      Prediction Error (MAE): 1.13\n",
      "\n",
      "==================================================\n",
      "Processing Batch 5/22 (5 interactions)\n",
      "==================================================\n"
     ]
    },
    {
     "name": "stderr",
     "output_type": "stream",
     "text": [
      "Making predictions: 100%|██████████| 5/5 [00:00<00:00, 81284.96it/s]\n"
     ]
    },
    {
     "name": "stdout",
     "output_type": "stream",
     "text": [
      "💾 Writing batch 5 (5 interactions) to output file...\n",
      "  📊 Batch 5 Stats:\n",
      "      Average Predicted Rating: 3.45\n",
      "      Average True Rating: 3.40\n",
      "      Prediction Error (MAE): 0.05\n",
      "\n",
      "==================================================\n",
      "Processing Batch 6/22 (5 interactions)\n",
      "==================================================\n"
     ]
    },
    {
     "name": "stderr",
     "output_type": "stream",
     "text": [
      "Making predictions: 100%|██████████| 5/5 [00:00<00:00, 49813.59it/s]\n"
     ]
    },
    {
     "name": "stdout",
     "output_type": "stream",
     "text": [
      "💾 Writing batch 6 (5 interactions) to output file...\n",
      "  📊 Batch 6 Stats:\n",
      "      Average Predicted Rating: 3.44\n",
      "      Average True Rating: 1.80\n",
      "      Prediction Error (MAE): 1.64\n",
      "\n",
      "==================================================\n",
      "Processing Batch 7/22 (5 interactions)\n",
      "==================================================\n"
     ]
    },
    {
     "name": "stderr",
     "output_type": "stream",
     "text": [
      "Making predictions: 100%|██████████| 5/5 [00:00<00:00, 99391.09it/s]\n"
     ]
    },
    {
     "name": "stdout",
     "output_type": "stream",
     "text": [
      "💾 Writing batch 7 (5 interactions) to output file...\n",
      "  📊 Batch 7 Stats:\n",
      "      Average Predicted Rating: 3.17\n",
      "      Average True Rating: 1.80\n",
      "      Prediction Error (MAE): 1.37\n",
      "\n",
      "==================================================\n",
      "Processing Batch 8/22 (5 interactions)\n",
      "==================================================\n"
     ]
    },
    {
     "name": "stderr",
     "output_type": "stream",
     "text": [
      "Making predictions: 100%|██████████| 5/5 [00:00<00:00, 83220.32it/s]\n"
     ]
    },
    {
     "name": "stdout",
     "output_type": "stream",
     "text": [
      "💾 Writing batch 8 (5 interactions) to output file...\n",
      "  📊 Batch 8 Stats:\n",
      "      Average Predicted Rating: 2.97\n",
      "      Average True Rating: 4.00\n",
      "      Prediction Error (MAE): 1.03\n",
      "\n",
      "==================================================\n",
      "Processing Batch 9/22 (5 interactions)\n",
      "==================================================\n"
     ]
    },
    {
     "name": "stderr",
     "output_type": "stream",
     "text": [
      "Making predictions: 100%|██████████| 5/5 [00:00<00:00, 75709.46it/s]\n"
     ]
    },
    {
     "name": "stdout",
     "output_type": "stream",
     "text": [
      "💾 Writing batch 9 (5 interactions) to output file...\n",
      "  📊 Batch 9 Stats:\n",
      "      Average Predicted Rating: 3.10\n",
      "      Average True Rating: 4.20\n",
      "      Prediction Error (MAE): 1.10\n",
      "\n",
      "==================================================\n",
      "Processing Batch 10/22 (5 interactions)\n",
      "==================================================\n"
     ]
    },
    {
     "name": "stderr",
     "output_type": "stream",
     "text": [
      "Making predictions: 100%|██████████| 5/5 [00:00<00:00, 47771.12it/s]\n"
     ]
    },
    {
     "name": "stdout",
     "output_type": "stream",
     "text": [
      "💾 Writing batch 10 (5 interactions) to output file...\n",
      "  📊 Batch 10 Stats:\n",
      "      Average Predicted Rating: 3.22\n",
      "      Average True Rating: 4.80\n",
      "      Prediction Error (MAE): 1.58\n",
      "\n",
      "==================================================\n",
      "Processing Batch 11/22 (5 interactions)\n",
      "==================================================\n"
     ]
    },
    {
     "name": "stderr",
     "output_type": "stream",
     "text": [
      "Making predictions: 100%|██████████| 5/5 [00:00<00:00, 73843.38it/s]\n"
     ]
    },
    {
     "name": "stdout",
     "output_type": "stream",
     "text": [
      "💾 Writing batch 11 (5 interactions) to output file...\n",
      "  📊 Batch 11 Stats:\n",
      "      Average Predicted Rating: 3.38\n",
      "      Average True Rating: 3.40\n",
      "      Prediction Error (MAE): 0.02\n",
      "\n",
      "==================================================\n",
      "Processing Batch 12/22 (5 interactions)\n",
      "==================================================\n"
     ]
    },
    {
     "name": "stderr",
     "output_type": "stream",
     "text": [
      "Making predictions: 100%|██████████| 5/5 [00:00<00:00, 71575.15it/s]\n"
     ]
    },
    {
     "name": "stdout",
     "output_type": "stream",
     "text": [
      "💾 Writing batch 12 (5 interactions) to output file...\n",
      "  📊 Batch 12 Stats:\n",
      "      Average Predicted Rating: 3.38\n",
      "      Average True Rating: 3.20\n",
      "      Prediction Error (MAE): 0.18\n",
      "\n",
      "==================================================\n",
      "Processing Batch 13/22 (5 interactions)\n",
      "==================================================\n"
     ]
    },
    {
     "name": "stderr",
     "output_type": "stream",
     "text": [
      "Making predictions: 100%|██████████| 5/5 [00:00<00:00, 75983.77it/s]\n"
     ]
    },
    {
     "name": "stdout",
     "output_type": "stream",
     "text": [
      "💾 Writing batch 13 (5 interactions) to output file...\n",
      "  📊 Batch 13 Stats:\n",
      "      Average Predicted Rating: 3.37\n",
      "      Average True Rating: 3.60\n",
      "      Prediction Error (MAE): 0.23\n",
      "\n",
      "==================================================\n",
      "Processing Batch 14/22 (5 interactions)\n",
      "==================================================\n"
     ]
    },
    {
     "name": "stderr",
     "output_type": "stream",
     "text": [
      "Making predictions: 100%|██████████| 5/5 [00:00<00:00, 85598.04it/s]\n"
     ]
    },
    {
     "name": "stdout",
     "output_type": "stream",
     "text": [
      "💾 Writing batch 14 (5 interactions) to output file...\n",
      "  📊 Batch 14 Stats:\n",
      "      Average Predicted Rating: 3.38\n",
      "      Average True Rating: 3.40\n",
      "      Prediction Error (MAE): 0.02\n",
      "\n",
      "==================================================\n",
      "Processing Batch 15/22 (5 interactions)\n",
      "==================================================\n"
     ]
    },
    {
     "name": "stderr",
     "output_type": "stream",
     "text": [
      "Making predictions: 100%|██████████| 5/5 [00:00<00:00, 72817.78it/s]\n"
     ]
    },
    {
     "name": "stdout",
     "output_type": "stream",
     "text": [
      "💾 Writing batch 15 (5 interactions) to output file...\n",
      "  📊 Batch 15 Stats:\n",
      "      Average Predicted Rating: 3.39\n",
      "      Average True Rating: 3.00\n",
      "      Prediction Error (MAE): 0.39\n",
      "\n",
      "==================================================\n",
      "Processing Batch 16/22 (5 interactions)\n",
      "==================================================\n"
     ]
    },
    {
     "name": "stderr",
     "output_type": "stream",
     "text": [
      "Making predictions: 100%|██████████| 5/5 [00:00<00:00, 8375.21it/s]\n"
     ]
    },
    {
     "name": "stdout",
     "output_type": "stream",
     "text": [
      "💾 Writing batch 16 (5 interactions) to output file...\n",
      "  📊 Batch 16 Stats:\n",
      "      Average Predicted Rating: 3.36\n",
      "      Average True Rating: 3.00\n",
      "      Prediction Error (MAE): 0.36\n",
      "\n",
      "==================================================\n",
      "Processing Batch 17/22 (5 interactions)\n",
      "==================================================\n"
     ]
    },
    {
     "name": "stderr",
     "output_type": "stream",
     "text": [
      "Making predictions: 100%|██████████| 5/5 [00:00<00:00, 50533.78it/s]\n"
     ]
    },
    {
     "name": "stdout",
     "output_type": "stream",
     "text": [
      "💾 Writing batch 17 (5 interactions) to output file...\n",
      "  📊 Batch 17 Stats:\n",
      "      Average Predicted Rating: 3.34\n",
      "      Average True Rating: 2.80\n",
      "      Prediction Error (MAE): 0.54\n",
      "\n",
      "==================================================\n",
      "Processing Batch 18/22 (5 interactions)\n",
      "==================================================\n"
     ]
    },
    {
     "name": "stderr",
     "output_type": "stream",
     "text": [
      "Making predictions: 100%|██████████| 5/5 [00:00<00:00, 81920.00it/s]\n"
     ]
    },
    {
     "name": "stdout",
     "output_type": "stream",
     "text": [
      "💾 Writing batch 18 (5 interactions) to output file...\n",
      "  📊 Batch 18 Stats:\n",
      "      Average Predicted Rating: 3.31\n",
      "      Average True Rating: 2.00\n",
      "      Prediction Error (MAE): 1.31\n",
      "\n",
      "==================================================\n",
      "Processing Batch 19/22 (5 interactions)\n",
      "==================================================\n"
     ]
    },
    {
     "name": "stderr",
     "output_type": "stream",
     "text": [
      "Making predictions: 100%|██████████| 5/5 [00:00<00:00, 74367.09it/s]\n"
     ]
    },
    {
     "name": "stdout",
     "output_type": "stream",
     "text": [
      "💾 Writing batch 19 (5 interactions) to output file...\n",
      "  📊 Batch 19 Stats:\n",
      "      Average Predicted Rating: 3.23\n",
      "      Average True Rating: 3.20\n",
      "      Prediction Error (MAE): 0.03\n",
      "\n",
      "==================================================\n",
      "Processing Batch 20/22 (5 interactions)\n",
      "==================================================\n"
     ]
    },
    {
     "name": "stderr",
     "output_type": "stream",
     "text": [
      "Making predictions: 100%|██████████| 5/5 [00:00<00:00, 50778.50it/s]\n"
     ]
    },
    {
     "name": "stdout",
     "output_type": "stream",
     "text": [
      "💾 Writing batch 20 (5 interactions) to output file...\n",
      "  📊 Batch 20 Stats:\n",
      "      Average Predicted Rating: 3.23\n",
      "      Average True Rating: 1.20\n",
      "      Prediction Error (MAE): 2.03\n",
      "\n",
      "==================================================\n",
      "Processing Batch 21/22 (5 interactions)\n",
      "==================================================\n"
     ]
    },
    {
     "name": "stderr",
     "output_type": "stream",
     "text": [
      "Making predictions: 100%|██████████| 5/5 [00:00<00:00, 9727.05it/s]\n"
     ]
    },
    {
     "name": "stdout",
     "output_type": "stream",
     "text": [
      "💾 Writing batch 21 (5 interactions) to output file...\n",
      "  📊 Batch 21 Stats:\n",
      "      Average Predicted Rating: 3.13\n",
      "      Average True Rating: 3.00\n",
      "      Prediction Error (MAE): 0.13\n",
      "\n",
      "==================================================\n",
      "Processing Batch 22/22 (3 interactions)\n",
      "==================================================\n"
     ]
    },
    {
     "name": "stderr",
     "output_type": "stream",
     "text": [
      "Making predictions: 100%|██████████| 3/3 [00:00<00:00, 43842.90it/s]\n",
      "Processing batches: 100%|██████████| 22/22 [00:00<00:00, 256.89it/s]\n"
     ]
    },
    {
     "name": "stdout",
     "output_type": "stream",
     "text": [
      "💾 Writing batch 22 (3 interactions) to output file...\n",
      "  📊 Batch 22 Stats:\n",
      "      Average Predicted Rating: 3.12\n",
      "      Average True Rating: 1.00\n",
      "      Prediction Error (MAE): 2.12\n",
      "✓ Rule-based baseline processing completed successfully!\n",
      "📊 Final Stats:\n",
      "    Total interactions processed: 108\n",
      "    Start index: 0\n",
      "    Overall Average Predicted Rating: 3.28\n",
      "    Overall Average True Rating: 3.06\n",
      "    Overall Prediction Error (MAE): 0.22\n",
      "Loading data from data/input/u_08.jsonl...\n",
      "Loaded 110 interactions\n",
      "Initializing output file with first 0 interactions...\n",
      "Processing 110 interactions starting from index 0\n",
      "Created 22 batches of size 5\n"
     ]
    },
    {
     "name": "stderr",
     "output_type": "stream",
     "text": [
      "Processing batches:   0%|          | 0/22 [00:00<?, ?it/s]"
     ]
    },
    {
     "name": "stdout",
     "output_type": "stream",
     "text": [
      "\n",
      "==================================================\n",
      "Processing Batch 1/22 (5 interactions)\n",
      "==================================================\n"
     ]
    },
    {
     "name": "stderr",
     "output_type": "stream",
     "text": [
      "Making predictions: 100%|██████████| 5/5 [00:00<00:00, 47880.18it/s]\n"
     ]
    },
    {
     "name": "stdout",
     "output_type": "stream",
     "text": [
      "💾 Writing batch 1 (5 interactions) to output file...\n",
      "  📊 Batch 1 Stats:\n",
      "      Average Predicted Rating: 4.20\n",
      "      Average True Rating: 4.20\n",
      "      Prediction Error (MAE): 0.00\n",
      "\n",
      "==================================================\n",
      "Processing Batch 2/22 (5 interactions)\n",
      "==================================================\n"
     ]
    },
    {
     "name": "stderr",
     "output_type": "stream",
     "text": [
      "Making predictions: 100%|██████████| 5/5 [00:00<00:00, 52692.26it/s]\n"
     ]
    },
    {
     "name": "stdout",
     "output_type": "stream",
     "text": [
      "💾 Writing batch 2 (5 interactions) to output file...\n",
      "  📊 Batch 2 Stats:\n",
      "      Average Predicted Rating: 4.20\n",
      "      Average True Rating: 4.40\n",
      "      Prediction Error (MAE): 0.20\n",
      "\n",
      "==================================================\n",
      "Processing Batch 3/22 (5 interactions)\n",
      "==================================================\n"
     ]
    },
    {
     "name": "stderr",
     "output_type": "stream",
     "text": [
      "Making predictions: 100%|██████████| 5/5 [00:00<00:00, 77101.18it/s]\n"
     ]
    },
    {
     "name": "stdout",
     "output_type": "stream",
     "text": [
      "💾 Writing batch 3 (5 interactions) to output file...\n",
      "  📊 Batch 3 Stats:\n",
      "      Average Predicted Rating: 4.30\n",
      "      Average True Rating: 5.00\n",
      "      Prediction Error (MAE): 0.70\n",
      "\n",
      "==================================================\n",
      "Processing Batch 4/22 (5 interactions)\n",
      "==================================================\n"
     ]
    },
    {
     "name": "stderr",
     "output_type": "stream",
     "text": [
      "Making predictions: 100%|██████████| 5/5 [00:00<00:00, 81920.00it/s]\n"
     ]
    },
    {
     "name": "stdout",
     "output_type": "stream",
     "text": [
      "💾 Writing batch 4 (5 interactions) to output file...\n",
      "  📊 Batch 4 Stats:\n",
      "      Average Predicted Rating: 4.53\n",
      "      Average True Rating: 5.00\n",
      "      Prediction Error (MAE): 0.47\n",
      "\n",
      "==================================================\n",
      "Processing Batch 5/22 (5 interactions)\n",
      "==================================================\n"
     ]
    },
    {
     "name": "stderr",
     "output_type": "stream",
     "text": [
      "Making predictions: 100%|██████████| 5/5 [00:00<00:00, 97090.37it/s]\n"
     ]
    },
    {
     "name": "stdout",
     "output_type": "stream",
     "text": [
      "💾 Writing batch 5 (5 interactions) to output file...\n",
      "  📊 Batch 5 Stats:\n",
      "      Average Predicted Rating: 4.65\n",
      "      Average True Rating: 4.80\n",
      "      Prediction Error (MAE): 0.15\n",
      "\n",
      "==================================================\n",
      "Processing Batch 6/22 (5 interactions)\n",
      "==================================================\n"
     ]
    },
    {
     "name": "stderr",
     "output_type": "stream",
     "text": [
      "Making predictions: 100%|██████████| 5/5 [00:00<00:00, 9333.12it/s]\n"
     ]
    },
    {
     "name": "stdout",
     "output_type": "stream",
     "text": [
      "💾 Writing batch 6 (5 interactions) to output file...\n",
      "  📊 Batch 6 Stats:\n",
      "      Average Predicted Rating: 4.68\n",
      "      Average True Rating: 5.00\n",
      "      Prediction Error (MAE): 0.32\n",
      "\n",
      "==================================================\n",
      "Processing Batch 7/22 (5 interactions)\n",
      "==================================================\n"
     ]
    },
    {
     "name": "stderr",
     "output_type": "stream",
     "text": [
      "Making predictions: 100%|██████████| 5/5 [00:00<00:00, 33716.27it/s]\n"
     ]
    },
    {
     "name": "stdout",
     "output_type": "stream",
     "text": [
      "💾 Writing batch 7 (5 interactions) to output file...\n",
      "  📊 Batch 7 Stats:\n",
      "      Average Predicted Rating: 4.73\n",
      "      Average True Rating: 5.00\n",
      "      Prediction Error (MAE): 0.27\n",
      "\n",
      "==================================================\n",
      "Processing Batch 8/22 (5 interactions)\n",
      "==================================================\n"
     ]
    },
    {
     "name": "stderr",
     "output_type": "stream",
     "text": [
      "Making predictions: 100%|██████████| 5/5 [00:00<00:00, 80043.97it/s]\n"
     ]
    },
    {
     "name": "stdout",
     "output_type": "stream",
     "text": [
      "💾 Writing batch 8 (5 interactions) to output file...\n",
      "  📊 Batch 8 Stats:\n",
      "      Average Predicted Rating: 4.77\n",
      "      Average True Rating: 5.00\n",
      "      Prediction Error (MAE): 0.23\n",
      "\n",
      "==================================================\n",
      "Processing Batch 9/22 (5 interactions)\n",
      "==================================================\n"
     ]
    },
    {
     "name": "stderr",
     "output_type": "stream",
     "text": [
      "Making predictions: 100%|██████████| 5/5 [00:00<00:00, 43329.59it/s]\n"
     ]
    },
    {
     "name": "stdout",
     "output_type": "stream",
     "text": [
      "💾 Writing batch 9 (5 interactions) to output file...\n",
      "  📊 Batch 9 Stats:\n",
      "      Average Predicted Rating: 4.80\n",
      "      Average True Rating: 5.00\n",
      "      Prediction Error (MAE): 0.20\n",
      "\n",
      "==================================================\n",
      "Processing Batch 10/22 (5 interactions)\n",
      "==================================================\n"
     ]
    },
    {
     "name": "stderr",
     "output_type": "stream",
     "text": [
      "Making predictions: 100%|██████████| 5/5 [00:00<00:00, 71820.27it/s]\n"
     ]
    },
    {
     "name": "stdout",
     "output_type": "stream",
     "text": [
      "💾 Writing batch 10 (5 interactions) to output file...\n",
      "  📊 Batch 10 Stats:\n",
      "      Average Predicted Rating: 4.82\n",
      "      Average True Rating: 4.80\n",
      "      Prediction Error (MAE): 0.02\n",
      "\n",
      "==================================================\n",
      "Processing Batch 11/22 (5 interactions)\n",
      "==================================================\n"
     ]
    },
    {
     "name": "stderr",
     "output_type": "stream",
     "text": [
      "Making predictions: 100%|██████████| 5/5 [00:00<00:00, 45789.34it/s]\n"
     ]
    },
    {
     "name": "stdout",
     "output_type": "stream",
     "text": [
      "💾 Writing batch 11 (5 interactions) to output file...\n",
      "  📊 Batch 11 Stats:\n",
      "      Average Predicted Rating: 4.82\n",
      "      Average True Rating: 5.00\n",
      "      Prediction Error (MAE): 0.18\n",
      "\n",
      "==================================================\n",
      "Processing Batch 12/22 (5 interactions)\n",
      "==================================================\n"
     ]
    },
    {
     "name": "stderr",
     "output_type": "stream",
     "text": [
      "Making predictions: 100%|██████████| 5/5 [00:00<00:00, 9210.15it/s]\n"
     ]
    },
    {
     "name": "stdout",
     "output_type": "stream",
     "text": [
      "💾 Writing batch 12 (5 interactions) to output file...\n",
      "  📊 Batch 12 Stats:\n",
      "      Average Predicted Rating: 4.84\n",
      "      Average True Rating: 5.00\n",
      "      Prediction Error (MAE): 0.16\n",
      "\n",
      "==================================================\n",
      "Processing Batch 13/22 (5 interactions)\n",
      "==================================================\n"
     ]
    },
    {
     "name": "stderr",
     "output_type": "stream",
     "text": [
      "Making predictions: 100%|██████████| 5/5 [00:00<00:00, 81920.00it/s]\n",
      "Processing batches:  59%|█████▉    | 13/22 [00:00<00:00, 127.99it/s]"
     ]
    },
    {
     "name": "stdout",
     "output_type": "stream",
     "text": [
      "💾 Writing batch 13 (5 interactions) to output file...\n",
      "  📊 Batch 13 Stats:\n",
      "      Average Predicted Rating: 4.85\n",
      "      Average True Rating: 5.00\n",
      "      Prediction Error (MAE): 0.15\n",
      "\n",
      "==================================================\n",
      "Processing Batch 14/22 (5 interactions)\n",
      "==================================================\n"
     ]
    },
    {
     "name": "stderr",
     "output_type": "stream",
     "text": [
      "Making predictions: 100%|██████████| 5/5 [00:00<00:00, 46916.15it/s]\n"
     ]
    },
    {
     "name": "stdout",
     "output_type": "stream",
     "text": [
      "💾 Writing batch 14 (5 interactions) to output file...\n",
      "  📊 Batch 14 Stats:\n",
      "      Average Predicted Rating: 4.86\n",
      "      Average True Rating: 4.80\n",
      "      Prediction Error (MAE): 0.06\n",
      "\n",
      "==================================================\n",
      "Processing Batch 15/22 (5 interactions)\n",
      "==================================================\n"
     ]
    },
    {
     "name": "stderr",
     "output_type": "stream",
     "text": [
      "Making predictions: 100%|██████████| 5/5 [00:00<00:00, 75437.12it/s]\n"
     ]
    },
    {
     "name": "stdout",
     "output_type": "stream",
     "text": [
      "💾 Writing batch 15 (5 interactions) to output file...\n",
      "  📊 Batch 15 Stats:\n",
      "      Average Predicted Rating: 4.86\n",
      "      Average True Rating: 5.00\n",
      "      Prediction Error (MAE): 0.14\n",
      "\n",
      "==================================================\n",
      "Processing Batch 16/22 (5 interactions)\n",
      "==================================================\n"
     ]
    },
    {
     "name": "stderr",
     "output_type": "stream",
     "text": [
      "Making predictions: 100%|██████████| 5/5 [00:00<00:00, 48545.19it/s]\n"
     ]
    },
    {
     "name": "stdout",
     "output_type": "stream",
     "text": [
      "💾 Writing batch 16 (5 interactions) to output file...\n",
      "  📊 Batch 16 Stats:\n",
      "      Average Predicted Rating: 4.87\n",
      "      Average True Rating: 5.00\n",
      "      Prediction Error (MAE): 0.13\n",
      "\n",
      "==================================================\n",
      "Processing Batch 17/22 (5 interactions)\n",
      "==================================================\n"
     ]
    },
    {
     "name": "stderr",
     "output_type": "stream",
     "text": [
      "Making predictions: 100%|██████████| 5/5 [00:00<00:00, 41120.63it/s]\n"
     ]
    },
    {
     "name": "stdout",
     "output_type": "stream",
     "text": [
      "💾 Writing batch 17 (5 interactions) to output file...\n",
      "  📊 Batch 17 Stats:\n",
      "      Average Predicted Rating: 4.88\n",
      "      Average True Rating: 5.00\n",
      "      Prediction Error (MAE): 0.12\n",
      "\n",
      "==================================================\n",
      "Processing Batch 18/22 (5 interactions)\n",
      "==================================================\n"
     ]
    },
    {
     "name": "stderr",
     "output_type": "stream",
     "text": [
      "Making predictions: 100%|██████████| 5/5 [00:00<00:00, 45889.54it/s]\n"
     ]
    },
    {
     "name": "stdout",
     "output_type": "stream",
     "text": [
      "💾 Writing batch 18 (5 interactions) to output file...\n",
      "  📊 Batch 18 Stats:\n",
      "      Average Predicted Rating: 4.88\n",
      "      Average True Rating: 4.80\n",
      "      Prediction Error (MAE): 0.08\n",
      "\n",
      "==================================================\n",
      "Processing Batch 19/22 (5 interactions)\n",
      "==================================================\n"
     ]
    },
    {
     "name": "stderr",
     "output_type": "stream",
     "text": [
      "Making predictions: 100%|██████████| 5/5 [00:00<00:00, 51527.08it/s]\n"
     ]
    },
    {
     "name": "stdout",
     "output_type": "stream",
     "text": [
      "💾 Writing batch 19 (5 interactions) to output file...\n",
      "  📊 Batch 19 Stats:\n",
      "      Average Predicted Rating: 4.88\n",
      "      Average True Rating: 4.80\n",
      "      Prediction Error (MAE): 0.08\n",
      "\n",
      "==================================================\n",
      "Processing Batch 20/22 (5 interactions)\n",
      "==================================================\n"
     ]
    },
    {
     "name": "stderr",
     "output_type": "stream",
     "text": [
      "Making predictions: 100%|██████████| 5/5 [00:00<00:00, 49695.55it/s]\n"
     ]
    },
    {
     "name": "stdout",
     "output_type": "stream",
     "text": [
      "💾 Writing batch 20 (5 interactions) to output file...\n",
      "  📊 Batch 20 Stats:\n",
      "      Average Predicted Rating: 4.87\n",
      "      Average True Rating: 5.00\n",
      "      Prediction Error (MAE): 0.13\n",
      "\n",
      "==================================================\n",
      "Processing Batch 21/22 (5 interactions)\n",
      "==================================================\n"
     ]
    },
    {
     "name": "stderr",
     "output_type": "stream",
     "text": [
      "Making predictions: 100%|██████████| 5/5 [00:00<00:00, 70138.86it/s]\n"
     ]
    },
    {
     "name": "stdout",
     "output_type": "stream",
     "text": [
      "💾 Writing batch 21 (5 interactions) to output file...\n",
      "  📊 Batch 21 Stats:\n",
      "      Average Predicted Rating: 4.88\n",
      "      Average True Rating: 5.00\n",
      "      Prediction Error (MAE): 0.12\n",
      "\n",
      "==================================================\n",
      "Processing Batch 22/22 (5 interactions)\n",
      "==================================================\n"
     ]
    },
    {
     "name": "stderr",
     "output_type": "stream",
     "text": [
      "Making predictions: 100%|██████████| 5/5 [00:00<00:00, 100342.20it/s]\n",
      "Processing batches: 100%|██████████| 22/22 [00:00<00:00, 143.54it/s]\n"
     ]
    },
    {
     "name": "stdout",
     "output_type": "stream",
     "text": [
      "💾 Writing batch 22 (5 interactions) to output file...\n",
      "  📊 Batch 22 Stats:\n",
      "      Average Predicted Rating: 4.89\n",
      "      Average True Rating: 5.00\n",
      "      Prediction Error (MAE): 0.11\n",
      "✓ Rule-based baseline processing completed successfully!\n",
      "📊 Final Stats:\n",
      "    Total interactions processed: 110\n",
      "    Start index: 0\n",
      "    Overall Average Predicted Rating: 4.73\n",
      "    Overall Average True Rating: 4.89\n",
      "    Overall Prediction Error (MAE): 0.16\n"
     ]
    }
   ],
   "source": [
    "users = ['u_01','u_06', 'u_08']\n",
    "start_index = 0\n",
    "debug=False\n",
    "batch_size = 5\n",
    "for user in users:\n",
    "\n",
    "    input_jsonl_path = f\"data/input/{user}.jsonl\"\n",
    "    output_jsonl_path = f\"data/output/{user}.jsonl\"\n",
    "    progress_log_path = f\"data/log/{user}.txt\"\n",
    "\n",
    "    run_rule_based_baseline(\n",
    "        input_jsonl_path=input_jsonl_path,\n",
    "        output_jsonl_path=output_jsonl_path,\n",
    "        start_index=start_index,\n",
    "        batch_size=batch_size,\n",
    "        progress_log_path=progress_log_path,\n",
    "        debug=False\n",
    "    )"
   ]
  }
 ],
 "metadata": {
  "kernelspec": {
   "display_name": "llm-project",
   "language": "python",
   "name": "python3"
  },
  "language_info": {
   "codemirror_mode": {
    "name": "ipython",
    "version": 3
   },
   "file_extension": ".py",
   "mimetype": "text/x-python",
   "name": "python",
   "nbconvert_exporter": "python",
   "pygments_lexer": "ipython3",
   "version": "3.11.13"
  }
 },
 "nbformat": 4,
 "nbformat_minor": 5
}
