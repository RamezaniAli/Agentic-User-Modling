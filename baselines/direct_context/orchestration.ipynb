{
 "cells": [
  {
   "cell_type": "code",
   "execution_count": 1,
   "id": "6a6a7d9e",
   "metadata": {},
   "outputs": [],
   "source": [
    "import sys\n",
    "import os\n",
    "\n",
    "sys.path.append(os.path.abspath('../..'))"
   ]
  },
  {
   "cell_type": "code",
   "execution_count": 2,
   "id": "260370ec",
   "metadata": {},
   "outputs": [],
   "source": [
    "import pandas as pd\n",
    "import json\n",
    "import os\n",
    "from tqdm.notebook import tqdm, trange\n",
    "from baselines.direct_context.run_direct import run_direct_baseline"
   ]
  },
  {
   "cell_type": "markdown",
   "id": "49efd755",
   "metadata": {},
   "source": [
    "# Run"
   ]
  },
  {
   "cell_type": "code",
   "execution_count": 4,
   "id": "7d40043b",
   "metadata": {},
   "outputs": [
    {
     "name": "stdout",
     "output_type": "stream",
     "text": [
      "u_01.jsonl: 94 lines\n",
      "u_06.jsonl: 108 lines\n",
      "u_08.jsonl: 110 lines\n",
      "u_10.jsonl: 96 lines\n",
      "u_11.jsonl: 91 lines\n",
      "u_12.jsonl: 98 lines\n",
      "u_14.jsonl: 106 lines\n",
      "u_19.jsonl: 103 lines\n",
      "u_44.jsonl: 100 lines\n"
     ]
    }
   ],
   "source": [
    "dir_path = \"data/input\"\n",
    "files = os.listdir(dir_path)\n",
    "\n",
    "for fname in sorted(files):\n",
    "    file_path = os.path.join(dir_path, fname)\n",
    "    with open(file_path, \"r\", encoding=\"utf-8\") as f:\n",
    "        num_lines = sum(1 for _ in f)\n",
    "    print(f\"{fname}: {num_lines} lines\")\n"
   ]
  },
  {
   "cell_type": "markdown",
   "id": "5b31c959",
   "metadata": {},
   "source": [
    "Start index:\n",
    "\n",
    "10 - 11 - 12 ==> 51\n",
    "\n",
    "14 - 19 - 44 ==> 21\n",
    "\n",
    "01 - 06 - 08 ==> 0"
   ]
  },
  {
   "cell_type": "code",
   "execution_count": 17,
   "id": "3401620c",
   "metadata": {},
   "outputs": [
    {
     "name": "stdout",
     "output_type": "stream",
     "text": [
      "Initializing LLM client...\n",
      "Loading data from data/input/u_01.jsonl...\n",
      "Loaded 94 interactions\n",
      "Initializing output file with first 0 interactions...\n",
      "Processing 94 interactions starting from index 0\n",
      "Created 19 batches of size 5\n"
     ]
    },
    {
     "name": "stderr",
     "output_type": "stream",
     "text": [
      "Processing batches:   0%|          | 0/19 [00:00<?, ?it/s]"
     ]
    },
    {
     "name": "stdout",
     "output_type": "stream",
     "text": [
      "\n",
      "==================================================\n",
      "Processing Batch 1/19 (5 interactions)\n",
      "==================================================\n"
     ]
    },
    {
     "name": "stderr",
     "output_type": "stream",
     "text": []
    },
    {
     "name": "stderr",
     "output_type": "stream",
     "text": [
      "Making predictions: 100%|██████████| 5/5 [00:09<00:00,  1.94s/it]\n",
      "Processing batches:   5%|▌         | 1/19 [00:09<02:54,  9.72s/it]"
     ]
    },
    {
     "name": "stdout",
     "output_type": "stream",
     "text": [
      "💾 Writing batch 1 (5 interactions) to output file...\n",
      "  📊 Batch 1 Stats:\n",
      "      Average Predicted Rating: 3.30\n",
      "      Average True Rating: 3.00\n",
      "      Prediction Error (MAE): 0.30\n",
      "\n",
      "==================================================\n",
      "Processing Batch 2/19 (5 interactions)\n",
      "==================================================\n"
     ]
    },
    {
     "name": "stderr",
     "output_type": "stream",
     "text": [
      "Making predictions: 100%|██████████| 5/5 [00:08<00:00,  1.69s/it]\n",
      "Processing batches:  11%|█         | 2/19 [00:18<02:32,  8.99s/it]"
     ]
    },
    {
     "name": "stdout",
     "output_type": "stream",
     "text": [
      "💾 Writing batch 2 (5 interactions) to output file...\n",
      "  📊 Batch 2 Stats:\n",
      "      Average Predicted Rating: 2.40\n",
      "      Average True Rating: 3.80\n",
      "      Prediction Error (MAE): 1.40\n",
      "\n",
      "==================================================\n",
      "Processing Batch 3/19 (5 interactions)\n",
      "==================================================\n"
     ]
    },
    {
     "name": "stderr",
     "output_type": "stream",
     "text": [
      "Making predictions: 100%|██████████| 5/5 [00:06<00:00,  1.32s/it]\n",
      "Processing batches:  16%|█▌        | 3/19 [00:24<02:06,  7.90s/it]"
     ]
    },
    {
     "name": "stdout",
     "output_type": "stream",
     "text": [
      "💾 Writing batch 3 (5 interactions) to output file...\n",
      "  📊 Batch 3 Stats:\n",
      "      Average Predicted Rating: 3.60\n",
      "      Average True Rating: 4.40\n",
      "      Prediction Error (MAE): 0.80\n",
      "\n",
      "==================================================\n",
      "Processing Batch 4/19 (5 interactions)\n",
      "==================================================\n"
     ]
    },
    {
     "name": "stderr",
     "output_type": "stream",
     "text": [
      "Making predictions: 100%|██████████| 5/5 [00:07<00:00,  1.57s/it]\n",
      "Processing batches:  21%|██        | 4/19 [00:32<01:58,  7.87s/it]"
     ]
    },
    {
     "name": "stdout",
     "output_type": "stream",
     "text": [
      "💾 Writing batch 4 (5 interactions) to output file...\n",
      "  📊 Batch 4 Stats:\n",
      "      Average Predicted Rating: 4.60\n",
      "      Average True Rating: 3.00\n",
      "      Prediction Error (MAE): 1.60\n",
      "\n",
      "==================================================\n",
      "Processing Batch 5/19 (5 interactions)\n",
      "==================================================\n"
     ]
    },
    {
     "name": "stderr",
     "output_type": "stream",
     "text": [
      "Making predictions: 100%|██████████| 5/5 [00:08<00:00,  1.74s/it]\n",
      "Processing batches:  26%|██▋       | 5/19 [00:41<01:54,  8.18s/it]"
     ]
    },
    {
     "name": "stdout",
     "output_type": "stream",
     "text": [
      "💾 Writing batch 5 (5 interactions) to output file...\n",
      "  📊 Batch 5 Stats:\n",
      "      Average Predicted Rating: 3.00\n",
      "      Average True Rating: 3.40\n",
      "      Prediction Error (MAE): 0.40\n",
      "\n",
      "==================================================\n",
      "Processing Batch 6/19 (5 interactions)\n",
      "==================================================\n"
     ]
    },
    {
     "name": "stderr",
     "output_type": "stream",
     "text": [
      "Making predictions: 100%|██████████| 5/5 [00:07<00:00,  1.51s/it]\n",
      "Processing batches:  32%|███▏      | 6/19 [00:48<01:43,  7.96s/it]"
     ]
    },
    {
     "name": "stdout",
     "output_type": "stream",
     "text": [
      "💾 Writing batch 6 (5 interactions) to output file...\n",
      "  📊 Batch 6 Stats:\n",
      "      Average Predicted Rating: 3.80\n",
      "      Average True Rating: 4.60\n",
      "      Prediction Error (MAE): 0.80\n",
      "\n",
      "==================================================\n",
      "Processing Batch 7/19 (5 interactions)\n",
      "==================================================\n"
     ]
    },
    {
     "name": "stderr",
     "output_type": "stream",
     "text": [
      "Making predictions: 100%|██████████| 5/5 [00:08<00:00,  1.78s/it]\n",
      "Processing batches:  37%|███▋      | 7/19 [00:57<01:39,  8.26s/it]"
     ]
    },
    {
     "name": "stdout",
     "output_type": "stream",
     "text": [
      "💾 Writing batch 7 (5 interactions) to output file...\n",
      "  📊 Batch 7 Stats:\n",
      "      Average Predicted Rating: 4.80\n",
      "      Average True Rating: 2.80\n",
      "      Prediction Error (MAE): 2.00\n",
      "\n",
      "==================================================\n",
      "Processing Batch 8/19 (5 interactions)\n",
      "==================================================\n"
     ]
    },
    {
     "name": "stderr",
     "output_type": "stream",
     "text": [
      "Making predictions: 100%|██████████| 5/5 [00:08<00:00,  1.65s/it]\n",
      "Processing batches:  42%|████▏     | 8/19 [01:06<01:30,  8.26s/it]"
     ]
    },
    {
     "name": "stdout",
     "output_type": "stream",
     "text": [
      "💾 Writing batch 8 (5 interactions) to output file...\n",
      "  📊 Batch 8 Stats:\n",
      "      Average Predicted Rating: 2.80\n",
      "      Average True Rating: 3.80\n",
      "      Prediction Error (MAE): 1.00\n",
      "\n",
      "==================================================\n",
      "Processing Batch 9/19 (5 interactions)\n",
      "==================================================\n"
     ]
    },
    {
     "name": "stderr",
     "output_type": "stream",
     "text": [
      "Making predictions: 100%|██████████| 5/5 [00:09<00:00,  1.82s/it]\n",
      "Processing batches:  47%|████▋     | 9/19 [01:15<01:25,  8.51s/it]"
     ]
    },
    {
     "name": "stdout",
     "output_type": "stream",
     "text": [
      "💾 Writing batch 9 (5 interactions) to output file...\n",
      "  📊 Batch 9 Stats:\n",
      "      Average Predicted Rating: 4.00\n",
      "      Average True Rating: 3.00\n",
      "      Prediction Error (MAE): 1.00\n",
      "\n",
      "==================================================\n",
      "Processing Batch 10/19 (5 interactions)\n",
      "==================================================\n"
     ]
    },
    {
     "name": "stderr",
     "output_type": "stream",
     "text": [
      "Making predictions: 100%|██████████| 5/5 [00:08<00:00,  1.64s/it]\n",
      "Processing batches:  53%|█████▎    | 10/19 [01:23<01:15,  8.42s/it]"
     ]
    },
    {
     "name": "stdout",
     "output_type": "stream",
     "text": [
      "💾 Writing batch 10 (5 interactions) to output file...\n",
      "  📊 Batch 10 Stats:\n",
      "      Average Predicted Rating: 2.60\n",
      "      Average True Rating: 3.40\n",
      "      Prediction Error (MAE): 0.80\n",
      "\n",
      "==================================================\n",
      "Processing Batch 11/19 (5 interactions)\n",
      "==================================================\n"
     ]
    },
    {
     "name": "stderr",
     "output_type": "stream",
     "text": [
      "Making predictions: 100%|██████████| 5/5 [00:09<00:00,  1.88s/it]\n",
      "Processing batches:  58%|█████▊    | 11/19 [01:32<01:09,  8.72s/it]"
     ]
    },
    {
     "name": "stdout",
     "output_type": "stream",
     "text": [
      "💾 Writing batch 11 (5 interactions) to output file...\n",
      "  📊 Batch 11 Stats:\n",
      "      Average Predicted Rating: 2.20\n",
      "      Average True Rating: 5.00\n",
      "      Prediction Error (MAE): 2.80\n",
      "\n",
      "==================================================\n",
      "Processing Batch 12/19 (5 interactions)\n",
      "==================================================\n"
     ]
    },
    {
     "name": "stderr",
     "output_type": "stream",
     "text": [
      "Making predictions: 100%|██████████| 5/5 [00:06<00:00,  1.26s/it]\n",
      "Processing batches:  63%|██████▎   | 12/19 [01:39<00:55,  7.99s/it]"
     ]
    },
    {
     "name": "stdout",
     "output_type": "stream",
     "text": [
      "💾 Writing batch 12 (5 interactions) to output file...\n",
      "  📊 Batch 12 Stats:\n",
      "      Average Predicted Rating: 2.80\n",
      "      Average True Rating: 4.80\n",
      "      Prediction Error (MAE): 2.00\n",
      "\n",
      "==================================================\n",
      "Processing Batch 13/19 (5 interactions)\n",
      "==================================================\n"
     ]
    },
    {
     "name": "stderr",
     "output_type": "stream",
     "text": [
      "Making predictions: 100%|██████████| 5/5 [00:06<00:00,  1.36s/it]\n",
      "Processing batches:  68%|██████▊   | 13/19 [01:45<00:45,  7.63s/it]"
     ]
    },
    {
     "name": "stdout",
     "output_type": "stream",
     "text": [
      "💾 Writing batch 13 (5 interactions) to output file...\n",
      "  📊 Batch 13 Stats:\n",
      "      Average Predicted Rating: 4.40\n",
      "      Average True Rating: 2.40\n",
      "      Prediction Error (MAE): 2.00\n",
      "\n",
      "==================================================\n",
      "Processing Batch 14/19 (5 interactions)\n",
      "==================================================\n"
     ]
    },
    {
     "name": "stderr",
     "output_type": "stream",
     "text": [
      "Making predictions: 100%|██████████| 5/5 [00:06<00:00,  1.26s/it]\n",
      "Processing batches:  74%|███████▎  | 14/19 [01:52<00:36,  7.22s/it]"
     ]
    },
    {
     "name": "stdout",
     "output_type": "stream",
     "text": [
      "💾 Writing batch 14 (5 interactions) to output file...\n",
      "  📊 Batch 14 Stats:\n",
      "      Average Predicted Rating: 3.60\n",
      "      Average True Rating: 3.00\n",
      "      Prediction Error (MAE): 0.60\n",
      "\n",
      "==================================================\n",
      "Processing Batch 15/19 (5 interactions)\n",
      "==================================================\n"
     ]
    },
    {
     "name": "stderr",
     "output_type": "stream",
     "text": [
      "Making predictions: 100%|██████████| 5/5 [00:05<00:00,  1.10s/it]\n",
      "Processing batches:  79%|███████▉  | 15/19 [01:57<00:26,  6.70s/it]"
     ]
    },
    {
     "name": "stdout",
     "output_type": "stream",
     "text": [
      "💾 Writing batch 15 (5 interactions) to output file...\n",
      "  📊 Batch 15 Stats:\n",
      "      Average Predicted Rating: 3.40\n",
      "      Average True Rating: 2.80\n",
      "      Prediction Error (MAE): 0.60\n",
      "\n",
      "==================================================\n",
      "Processing Batch 16/19 (5 interactions)\n",
      "==================================================\n"
     ]
    },
    {
     "name": "stderr",
     "output_type": "stream",
     "text": [
      "Making predictions: 100%|██████████| 5/5 [00:06<00:00,  1.29s/it]\n",
      "Processing batches:  84%|████████▍ | 16/19 [02:04<00:19,  6.63s/it]"
     ]
    },
    {
     "name": "stdout",
     "output_type": "stream",
     "text": [
      "💾 Writing batch 16 (5 interactions) to output file...\n",
      "  📊 Batch 16 Stats:\n",
      "      Average Predicted Rating: 2.60\n",
      "      Average True Rating: 3.20\n",
      "      Prediction Error (MAE): 0.60\n",
      "\n",
      "==================================================\n",
      "Processing Batch 17/19 (5 interactions)\n",
      "==================================================\n"
     ]
    },
    {
     "name": "stderr",
     "output_type": "stream",
     "text": [
      "Making predictions: 100%|██████████| 5/5 [00:07<00:00,  1.43s/it]\n",
      "Processing batches:  89%|████████▉ | 17/19 [02:11<00:13,  6.79s/it]"
     ]
    },
    {
     "name": "stdout",
     "output_type": "stream",
     "text": [
      "💾 Writing batch 17 (5 interactions) to output file...\n",
      "  📊 Batch 17 Stats:\n",
      "      Average Predicted Rating: 2.40\n",
      "      Average True Rating: 1.80\n",
      "      Prediction Error (MAE): 0.60\n",
      "\n",
      "==================================================\n",
      "Processing Batch 18/19 (5 interactions)\n",
      "==================================================\n"
     ]
    },
    {
     "name": "stderr",
     "output_type": "stream",
     "text": [
      "Making predictions: 100%|██████████| 5/5 [00:06<00:00,  1.22s/it]\n",
      "Processing batches:  95%|█████████▍| 18/19 [02:17<00:06,  6.59s/it]"
     ]
    },
    {
     "name": "stdout",
     "output_type": "stream",
     "text": [
      "💾 Writing batch 18 (5 interactions) to output file...\n",
      "  📊 Batch 18 Stats:\n",
      "      Average Predicted Rating: 2.40\n",
      "      Average True Rating: 3.00\n",
      "      Prediction Error (MAE): 0.60\n",
      "\n",
      "==================================================\n",
      "Processing Batch 19/19 (4 interactions)\n",
      "==================================================\n"
     ]
    },
    {
     "name": "stderr",
     "output_type": "stream",
     "text": [
      "Making predictions: 100%|██████████| 4/4 [00:06<00:00,  1.62s/it]\n",
      "Processing batches: 100%|██████████| 19/19 [02:23<00:00,  7.57s/it]\n"
     ]
    },
    {
     "name": "stdout",
     "output_type": "stream",
     "text": [
      "💾 Writing batch 19 (4 interactions) to output file...\n",
      "  📊 Batch 19 Stats:\n",
      "      Average Predicted Rating: 3.25\n",
      "      Average True Rating: 5.00\n",
      "      Prediction Error (MAE): 1.75\n",
      "✓ Direct baseline processing completed successfully!\n",
      "📊 Final Stats:\n",
      "    Total interactions processed: 94\n",
      "    Start index: 0\n",
      "    Overall Average Predicted Rating: 3.26\n",
      "    Overall Average True Rating: 3.47\n",
      "    Overall Prediction Error (MAE): 0.21\n",
      "Initializing LLM client...\n",
      "Loading data from data/input/u_06.jsonl...\n",
      "Loaded 108 interactions\n",
      "Initializing output file with first 0 interactions...\n",
      "Processing 108 interactions starting from index 0\n",
      "Created 22 batches of size 5\n"
     ]
    },
    {
     "name": "stderr",
     "output_type": "stream",
     "text": [
      "Processing batches:   0%|          | 0/22 [00:00<?, ?it/s]"
     ]
    },
    {
     "name": "stdout",
     "output_type": "stream",
     "text": [
      "\n",
      "==================================================\n",
      "Processing Batch 1/22 (5 interactions)\n",
      "==================================================\n"
     ]
    },
    {
     "name": "stderr",
     "output_type": "stream",
     "text": [
      "Making predictions: 100%|██████████| 5/5 [00:07<00:00,  1.50s/it]\n",
      "Processing batches:   5%|▍         | 1/22 [00:07<02:37,  7.49s/it]"
     ]
    },
    {
     "name": "stdout",
     "output_type": "stream",
     "text": [
      "💾 Writing batch 1 (5 interactions) to output file...\n",
      "  📊 Batch 1 Stats:\n",
      "      Average Predicted Rating: 2.20\n",
      "      Average True Rating: 3.00\n",
      "      Prediction Error (MAE): 0.80\n",
      "\n",
      "==================================================\n",
      "Processing Batch 2/22 (5 interactions)\n",
      "==================================================\n"
     ]
    },
    {
     "name": "stderr",
     "output_type": "stream",
     "text": [
      "Making predictions: 100%|██████████| 5/5 [00:08<00:00,  1.64s/it]\n",
      "Processing batches:   9%|▉         | 2/22 [00:15<02:38,  7.91s/it]"
     ]
    },
    {
     "name": "stdout",
     "output_type": "stream",
     "text": [
      "💾 Writing batch 2 (5 interactions) to output file...\n",
      "  📊 Batch 2 Stats:\n",
      "      Average Predicted Rating: 3.00\n",
      "      Average True Rating: 4.00\n",
      "      Prediction Error (MAE): 1.00\n",
      "\n",
      "==================================================\n",
      "Processing Batch 3/22 (5 interactions)\n",
      "==================================================\n"
     ]
    },
    {
     "name": "stderr",
     "output_type": "stream",
     "text": [
      "Making predictions: 100%|██████████| 5/5 [00:06<00:00,  1.23s/it]\n",
      "Processing batches:  14%|█▎        | 3/22 [00:21<02:14,  7.10s/it]"
     ]
    },
    {
     "name": "stdout",
     "output_type": "stream",
     "text": [
      "💾 Writing batch 3 (5 interactions) to output file...\n",
      "  📊 Batch 3 Stats:\n",
      "      Average Predicted Rating: 4.60\n",
      "      Average True Rating: 4.20\n",
      "      Prediction Error (MAE): 0.40\n",
      "\n",
      "==================================================\n",
      "Processing Batch 4/22 (5 interactions)\n",
      "==================================================\n"
     ]
    },
    {
     "name": "stderr",
     "output_type": "stream",
     "text": [
      "Making predictions: 100%|██████████| 5/5 [00:07<00:00,  1.57s/it]\n",
      "Processing batches:  18%|█▊        | 4/22 [00:29<02:13,  7.41s/it]"
     ]
    },
    {
     "name": "stdout",
     "output_type": "stream",
     "text": [
      "💾 Writing batch 4 (5 interactions) to output file...\n",
      "  📊 Batch 4 Stats:\n",
      "      Average Predicted Rating: 3.80\n",
      "      Average True Rating: 2.60\n",
      "      Prediction Error (MAE): 1.20\n",
      "\n",
      "==================================================\n",
      "Processing Batch 5/22 (5 interactions)\n",
      "==================================================\n"
     ]
    },
    {
     "name": "stderr",
     "output_type": "stream",
     "text": [
      "Making predictions: 100%|██████████| 5/5 [00:06<00:00,  1.37s/it]\n",
      "Processing batches:  23%|██▎       | 5/22 [00:36<02:02,  7.20s/it]"
     ]
    },
    {
     "name": "stdout",
     "output_type": "stream",
     "text": [
      "💾 Writing batch 5 (5 interactions) to output file...\n",
      "  📊 Batch 5 Stats:\n",
      "      Average Predicted Rating: 3.80\n",
      "      Average True Rating: 3.40\n",
      "      Prediction Error (MAE): 0.40\n",
      "\n",
      "==================================================\n",
      "Processing Batch 6/22 (5 interactions)\n",
      "==================================================\n"
     ]
    },
    {
     "name": "stderr",
     "output_type": "stream",
     "text": [
      "Making predictions: 100%|██████████| 5/5 [00:07<00:00,  1.45s/it]\n",
      "Processing batches:  27%|██▋       | 6/22 [00:43<01:55,  7.21s/it]"
     ]
    },
    {
     "name": "stdout",
     "output_type": "stream",
     "text": [
      "💾 Writing batch 6 (5 interactions) to output file...\n",
      "  📊 Batch 6 Stats:\n",
      "      Average Predicted Rating: 1.00\n",
      "      Average True Rating: 1.80\n",
      "      Prediction Error (MAE): 0.80\n",
      "\n",
      "==================================================\n",
      "Processing Batch 7/22 (5 interactions)\n",
      "==================================================\n"
     ]
    },
    {
     "name": "stderr",
     "output_type": "stream",
     "text": [
      "Making predictions: 100%|██████████| 5/5 [00:05<00:00,  1.11s/it]\n",
      "Processing batches:  32%|███▏      | 7/22 [00:49<01:40,  6.68s/it]"
     ]
    },
    {
     "name": "stdout",
     "output_type": "stream",
     "text": [
      "💾 Writing batch 7 (5 interactions) to output file...\n",
      "  📊 Batch 7 Stats:\n",
      "      Average Predicted Rating: 2.80\n",
      "      Average True Rating: 1.80\n",
      "      Prediction Error (MAE): 1.00\n",
      "\n",
      "==================================================\n",
      "Processing Batch 8/22 (5 interactions)\n",
      "==================================================\n"
     ]
    },
    {
     "name": "stderr",
     "output_type": "stream",
     "text": [
      "Making predictions: 100%|██████████| 5/5 [00:06<00:00,  1.33s/it]\n",
      "Processing batches:  36%|███▋      | 8/22 [00:56<01:33,  6.68s/it]"
     ]
    },
    {
     "name": "stdout",
     "output_type": "stream",
     "text": [
      "💾 Writing batch 8 (5 interactions) to output file...\n",
      "  📊 Batch 8 Stats:\n",
      "      Average Predicted Rating: 1.80\n",
      "      Average True Rating: 4.00\n",
      "      Prediction Error (MAE): 2.20\n",
      "\n",
      "==================================================\n",
      "Processing Batch 9/22 (5 interactions)\n",
      "==================================================\n"
     ]
    },
    {
     "name": "stderr",
     "output_type": "stream",
     "text": [
      "Making predictions: 100%|██████████| 5/5 [00:05<00:00,  1.16s/it]\n",
      "Processing batches:  41%|████      | 9/22 [01:01<01:23,  6.41s/it]"
     ]
    },
    {
     "name": "stdout",
     "output_type": "stream",
     "text": [
      "💾 Writing batch 9 (5 interactions) to output file...\n",
      "  📊 Batch 9 Stats:\n",
      "      Average Predicted Rating: 5.00\n",
      "      Average True Rating: 4.20\n",
      "      Prediction Error (MAE): 0.80\n",
      "\n",
      "==================================================\n",
      "Processing Batch 10/22 (5 interactions)\n",
      "==================================================\n"
     ]
    },
    {
     "name": "stderr",
     "output_type": "stream",
     "text": [
      "Making predictions: 100%|██████████| 5/5 [00:06<00:00,  1.31s/it]\n",
      "Processing batches:  45%|████▌     | 10/22 [01:08<01:17,  6.46s/it]"
     ]
    },
    {
     "name": "stdout",
     "output_type": "stream",
     "text": [
      "💾 Writing batch 10 (5 interactions) to output file...\n",
      "  📊 Batch 10 Stats:\n",
      "      Average Predicted Rating: 3.80\n",
      "      Average True Rating: 4.80\n",
      "      Prediction Error (MAE): 1.00\n",
      "\n",
      "==================================================\n",
      "Processing Batch 11/22 (5 interactions)\n",
      "==================================================\n"
     ]
    },
    {
     "name": "stderr",
     "output_type": "stream",
     "text": [
      "Making predictions: 100%|██████████| 5/5 [00:08<00:00,  1.66s/it]\n",
      "Processing batches:  50%|█████     | 11/22 [01:16<01:17,  7.03s/it]"
     ]
    },
    {
     "name": "stdout",
     "output_type": "stream",
     "text": [
      "💾 Writing batch 11 (5 interactions) to output file...\n",
      "  📊 Batch 11 Stats:\n",
      "      Average Predicted Rating: 3.60\n",
      "      Average True Rating: 3.40\n",
      "      Prediction Error (MAE): 0.20\n",
      "\n",
      "==================================================\n",
      "Processing Batch 12/22 (5 interactions)\n",
      "==================================================\n"
     ]
    },
    {
     "name": "stderr",
     "output_type": "stream",
     "text": [
      "Making predictions: 100%|██████████| 5/5 [00:07<00:00,  1.43s/it]\n",
      "Processing batches:  55%|█████▍    | 12/22 [01:23<01:10,  7.07s/it]"
     ]
    },
    {
     "name": "stdout",
     "output_type": "stream",
     "text": [
      "💾 Writing batch 12 (5 interactions) to output file...\n",
      "  📊 Batch 12 Stats:\n",
      "      Average Predicted Rating: 2.40\n",
      "      Average True Rating: 3.20\n",
      "      Prediction Error (MAE): 0.80\n",
      "\n",
      "==================================================\n",
      "Processing Batch 13/22 (5 interactions)\n",
      "==================================================\n"
     ]
    },
    {
     "name": "stderr",
     "output_type": "stream",
     "text": [
      "Making predictions: 100%|██████████| 5/5 [00:08<00:00,  1.78s/it]\n",
      "Processing batches:  59%|█████▉    | 13/22 [01:32<01:08,  7.62s/it]"
     ]
    },
    {
     "name": "stdout",
     "output_type": "stream",
     "text": [
      "💾 Writing batch 13 (5 interactions) to output file...\n",
      "  📊 Batch 13 Stats:\n",
      "      Average Predicted Rating: 3.40\n",
      "      Average True Rating: 3.60\n",
      "      Prediction Error (MAE): 0.20\n",
      "\n",
      "==================================================\n",
      "Processing Batch 14/22 (5 interactions)\n",
      "==================================================\n"
     ]
    },
    {
     "name": "stderr",
     "output_type": "stream",
     "text": [
      "Making predictions: 100%|██████████| 5/5 [00:07<00:00,  1.60s/it]\n",
      "Processing batches:  64%|██████▎   | 14/22 [01:40<01:01,  7.74s/it]"
     ]
    },
    {
     "name": "stdout",
     "output_type": "stream",
     "text": [
      "💾 Writing batch 14 (5 interactions) to output file...\n",
      "  📊 Batch 14 Stats:\n",
      "      Average Predicted Rating: 2.80\n",
      "      Average True Rating: 3.40\n",
      "      Prediction Error (MAE): 0.60\n",
      "\n",
      "==================================================\n",
      "Processing Batch 15/22 (5 interactions)\n",
      "==================================================\n"
     ]
    },
    {
     "name": "stderr",
     "output_type": "stream",
     "text": [
      "Making predictions: 100%|██████████| 5/5 [00:06<00:00,  1.23s/it]\n",
      "Processing batches:  68%|██████▊   | 15/22 [01:46<00:50,  7.26s/it]"
     ]
    },
    {
     "name": "stdout",
     "output_type": "stream",
     "text": [
      "💾 Writing batch 15 (5 interactions) to output file...\n",
      "  📊 Batch 15 Stats:\n",
      "      Average Predicted Rating: 2.40\n",
      "      Average True Rating: 3.00\n",
      "      Prediction Error (MAE): 0.60\n",
      "\n",
      "==================================================\n",
      "Processing Batch 16/22 (5 interactions)\n",
      "==================================================\n"
     ]
    },
    {
     "name": "stderr",
     "output_type": "stream",
     "text": [
      "Making predictions: 100%|██████████| 5/5 [00:06<00:00,  1.40s/it]\n",
      "Processing batches:  73%|███████▎  | 16/22 [01:53<00:43,  7.18s/it]"
     ]
    },
    {
     "name": "stdout",
     "output_type": "stream",
     "text": [
      "💾 Writing batch 16 (5 interactions) to output file...\n",
      "  📊 Batch 16 Stats:\n",
      "      Average Predicted Rating: 1.60\n",
      "      Average True Rating: 3.00\n",
      "      Prediction Error (MAE): 1.40\n",
      "\n",
      "==================================================\n",
      "Processing Batch 17/22 (5 interactions)\n",
      "==================================================\n"
     ]
    },
    {
     "name": "stderr",
     "output_type": "stream",
     "text": [
      "Making predictions: 100%|██████████| 5/5 [00:07<00:00,  1.43s/it]\n",
      "Processing batches:  77%|███████▋  | 17/22 [02:01<00:35,  7.17s/it]"
     ]
    },
    {
     "name": "stdout",
     "output_type": "stream",
     "text": [
      "💾 Writing batch 17 (5 interactions) to output file...\n",
      "  📊 Batch 17 Stats:\n",
      "      Average Predicted Rating: 2.60\n",
      "      Average True Rating: 2.80\n",
      "      Prediction Error (MAE): 0.20\n",
      "\n",
      "==================================================\n",
      "Processing Batch 18/22 (5 interactions)\n",
      "==================================================\n"
     ]
    },
    {
     "name": "stderr",
     "output_type": "stream",
     "text": [
      "Making predictions: 100%|██████████| 5/5 [00:06<00:00,  1.37s/it]\n",
      "Processing batches:  82%|████████▏ | 18/22 [02:07<00:28,  7.07s/it]"
     ]
    },
    {
     "name": "stdout",
     "output_type": "stream",
     "text": [
      "💾 Writing batch 18 (5 interactions) to output file...\n",
      "  📊 Batch 18 Stats:\n",
      "      Average Predicted Rating: 1.60\n",
      "      Average True Rating: 2.00\n",
      "      Prediction Error (MAE): 0.40\n",
      "\n",
      "==================================================\n",
      "Processing Batch 19/22 (5 interactions)\n",
      "==================================================\n"
     ]
    },
    {
     "name": "stderr",
     "output_type": "stream",
     "text": [
      "Making predictions: 100%|██████████| 5/5 [00:07<00:00,  1.57s/it]\n",
      "Processing batches:  86%|████████▋ | 19/22 [02:15<00:21,  7.31s/it]"
     ]
    },
    {
     "name": "stdout",
     "output_type": "stream",
     "text": [
      "💾 Writing batch 19 (5 interactions) to output file...\n",
      "  📊 Batch 19 Stats:\n",
      "      Average Predicted Rating: 2.00\n",
      "      Average True Rating: 3.20\n",
      "      Prediction Error (MAE): 1.20\n",
      "\n",
      "==================================================\n",
      "Processing Batch 20/22 (5 interactions)\n",
      "==================================================\n"
     ]
    },
    {
     "name": "stderr",
     "output_type": "stream",
     "text": [
      "Making predictions: 100%|██████████| 5/5 [00:06<00:00,  1.24s/it]\n",
      "Processing batches:  91%|█████████ | 20/22 [02:22<00:13,  6.98s/it]"
     ]
    },
    {
     "name": "stdout",
     "output_type": "stream",
     "text": [
      "💾 Writing batch 20 (5 interactions) to output file...\n",
      "  📊 Batch 20 Stats:\n",
      "      Average Predicted Rating: 2.80\n",
      "      Average True Rating: 1.20\n",
      "      Prediction Error (MAE): 1.60\n",
      "\n",
      "==================================================\n",
      "Processing Batch 21/22 (5 interactions)\n",
      "==================================================\n"
     ]
    },
    {
     "name": "stderr",
     "output_type": "stream",
     "text": [
      "Making predictions: 100%|██████████| 5/5 [00:07<00:00,  1.51s/it]\n",
      "Processing batches:  95%|█████████▌| 21/22 [02:29<00:07,  7.15s/it]"
     ]
    },
    {
     "name": "stdout",
     "output_type": "stream",
     "text": [
      "💾 Writing batch 21 (5 interactions) to output file...\n",
      "  📊 Batch 21 Stats:\n",
      "      Average Predicted Rating: 1.60\n",
      "      Average True Rating: 3.00\n",
      "      Prediction Error (MAE): 1.40\n",
      "\n",
      "==================================================\n",
      "Processing Batch 22/22 (3 interactions)\n",
      "==================================================\n"
     ]
    },
    {
     "name": "stderr",
     "output_type": "stream",
     "text": [
      "Making predictions: 100%|██████████| 3/3 [00:04<00:00,  1.34s/it]\n",
      "Processing batches: 100%|██████████| 22/22 [02:33<00:00,  6.98s/it]\n"
     ]
    },
    {
     "name": "stdout",
     "output_type": "stream",
     "text": [
      "💾 Writing batch 22 (3 interactions) to output file...\n",
      "  📊 Batch 22 Stats:\n",
      "      Average Predicted Rating: 2.33\n",
      "      Average True Rating: 1.00\n",
      "      Prediction Error (MAE): 1.33\n",
      "✓ Direct baseline processing completed successfully!\n",
      "📊 Final Stats:\n",
      "    Total interactions processed: 108\n",
      "    Start index: 0\n",
      "    Overall Average Predicted Rating: 2.78\n",
      "    Overall Average True Rating: 3.06\n",
      "    Overall Prediction Error (MAE): 0.29\n",
      "Initializing LLM client...\n",
      "Loading data from data/input/u_08.jsonl...\n",
      "Loaded 110 interactions\n",
      "Initializing output file with first 0 interactions...\n",
      "Processing 110 interactions starting from index 0\n",
      "Created 22 batches of size 5\n"
     ]
    },
    {
     "name": "stderr",
     "output_type": "stream",
     "text": [
      "Processing batches:   0%|          | 0/22 [00:00<?, ?it/s]"
     ]
    },
    {
     "name": "stdout",
     "output_type": "stream",
     "text": [
      "\n",
      "==================================================\n",
      "Processing Batch 1/22 (5 interactions)\n",
      "==================================================\n"
     ]
    },
    {
     "name": "stderr",
     "output_type": "stream",
     "text": [
      "Making predictions: 100%|██████████| 5/5 [00:07<00:00,  1.53s/it]\n",
      "Processing batches:   5%|▍         | 1/22 [00:07<02:41,  7.67s/it]"
     ]
    },
    {
     "name": "stdout",
     "output_type": "stream",
     "text": [
      "💾 Writing batch 1 (5 interactions) to output file...\n",
      "  📊 Batch 1 Stats:\n",
      "      Average Predicted Rating: 3.40\n",
      "      Average True Rating: 4.20\n",
      "      Prediction Error (MAE): 0.80\n",
      "\n",
      "==================================================\n",
      "Processing Batch 2/22 (5 interactions)\n",
      "==================================================\n"
     ]
    },
    {
     "name": "stderr",
     "output_type": "stream",
     "text": [
      "Making predictions: 100%|██████████| 5/5 [00:07<00:00,  1.51s/it]\n",
      "Processing batches:   9%|▉         | 2/22 [00:15<02:31,  7.60s/it]"
     ]
    },
    {
     "name": "stdout",
     "output_type": "stream",
     "text": [
      "💾 Writing batch 2 (5 interactions) to output file...\n",
      "  📊 Batch 2 Stats:\n",
      "      Average Predicted Rating: 2.80\n",
      "      Average True Rating: 4.40\n",
      "      Prediction Error (MAE): 1.60\n",
      "\n",
      "==================================================\n",
      "Processing Batch 3/22 (5 interactions)\n",
      "==================================================\n"
     ]
    },
    {
     "name": "stderr",
     "output_type": "stream",
     "text": [
      "Making predictions: 100%|██████████| 5/5 [00:09<00:00,  1.94s/it]\n",
      "Processing batches:  14%|█▎        | 3/22 [00:24<02:42,  8.57s/it]"
     ]
    },
    {
     "name": "stdout",
     "output_type": "stream",
     "text": [
      "💾 Writing batch 3 (5 interactions) to output file...\n",
      "  📊 Batch 3 Stats:\n",
      "      Average Predicted Rating: 4.60\n",
      "      Average True Rating: 5.00\n",
      "      Prediction Error (MAE): 0.40\n",
      "\n",
      "==================================================\n",
      "Processing Batch 4/22 (5 interactions)\n",
      "==================================================\n"
     ]
    },
    {
     "name": "stderr",
     "output_type": "stream",
     "text": [
      "Making predictions: 100%|██████████| 5/5 [00:07<00:00,  1.56s/it]\n",
      "Processing batches:  18%|█▊        | 4/22 [00:32<02:28,  8.27s/it]"
     ]
    },
    {
     "name": "stdout",
     "output_type": "stream",
     "text": [
      "💾 Writing batch 4 (5 interactions) to output file...\n",
      "  📊 Batch 4 Stats:\n",
      "      Average Predicted Rating: 4.00\n",
      "      Average True Rating: 5.00\n",
      "      Prediction Error (MAE): 1.00\n",
      "\n",
      "==================================================\n",
      "Processing Batch 5/22 (5 interactions)\n",
      "==================================================\n"
     ]
    },
    {
     "name": "stderr",
     "output_type": "stream",
     "text": [
      "Making predictions: 100%|██████████| 5/5 [00:09<00:00,  1.89s/it]\n",
      "Processing batches:  23%|██▎       | 5/22 [00:42<02:27,  8.69s/it]"
     ]
    },
    {
     "name": "stdout",
     "output_type": "stream",
     "text": [
      "💾 Writing batch 5 (5 interactions) to output file...\n",
      "  📊 Batch 5 Stats:\n",
      "      Average Predicted Rating: 4.20\n",
      "      Average True Rating: 4.80\n",
      "      Prediction Error (MAE): 0.60\n",
      "\n",
      "==================================================\n",
      "Processing Batch 6/22 (5 interactions)\n",
      "==================================================\n"
     ]
    },
    {
     "name": "stderr",
     "output_type": "stream",
     "text": [
      "Making predictions: 100%|██████████| 5/5 [00:09<00:00,  1.95s/it]\n",
      "Processing batches:  27%|██▋       | 6/22 [00:51<02:24,  9.05s/it]"
     ]
    },
    {
     "name": "stdout",
     "output_type": "stream",
     "text": [
      "💾 Writing batch 6 (5 interactions) to output file...\n",
      "  📊 Batch 6 Stats:\n",
      "      Average Predicted Rating: 3.80\n",
      "      Average True Rating: 5.00\n",
      "      Prediction Error (MAE): 1.20\n",
      "\n",
      "==================================================\n",
      "Processing Batch 7/22 (5 interactions)\n",
      "==================================================\n"
     ]
    },
    {
     "name": "stderr",
     "output_type": "stream",
     "text": [
      "Making predictions: 100%|██████████| 5/5 [00:07<00:00,  1.47s/it]\n",
      "Processing batches:  32%|███▏      | 7/22 [00:59<02:07,  8.50s/it]"
     ]
    },
    {
     "name": "stdout",
     "output_type": "stream",
     "text": [
      "💾 Writing batch 7 (5 interactions) to output file...\n",
      "  📊 Batch 7 Stats:\n",
      "      Average Predicted Rating: 4.00\n",
      "      Average True Rating: 5.00\n",
      "      Prediction Error (MAE): 1.00\n",
      "\n",
      "==================================================\n",
      "Processing Batch 8/22 (5 interactions)\n",
      "==================================================\n"
     ]
    },
    {
     "name": "stderr",
     "output_type": "stream",
     "text": [
      "Making predictions: 100%|██████████| 5/5 [00:07<00:00,  1.56s/it]\n",
      "Processing batches:  36%|███▋      | 8/22 [01:07<01:55,  8.28s/it]"
     ]
    },
    {
     "name": "stdout",
     "output_type": "stream",
     "text": [
      "💾 Writing batch 8 (5 interactions) to output file...\n",
      "  📊 Batch 8 Stats:\n",
      "      Average Predicted Rating: 3.80\n",
      "      Average True Rating: 5.00\n",
      "      Prediction Error (MAE): 1.20\n",
      "\n",
      "==================================================\n",
      "Processing Batch 9/22 (5 interactions)\n",
      "==================================================\n"
     ]
    },
    {
     "name": "stderr",
     "output_type": "stream",
     "text": [
      "Making predictions: 100%|██████████| 5/5 [00:07<00:00,  1.51s/it]\n",
      "Processing batches:  41%|████      | 9/22 [01:14<01:44,  8.06s/it]"
     ]
    },
    {
     "name": "stdout",
     "output_type": "stream",
     "text": [
      "💾 Writing batch 9 (5 interactions) to output file...\n",
      "  📊 Batch 9 Stats:\n",
      "      Average Predicted Rating: 4.60\n",
      "      Average True Rating: 5.00\n",
      "      Prediction Error (MAE): 0.40\n",
      "\n",
      "==================================================\n",
      "Processing Batch 10/22 (5 interactions)\n",
      "==================================================\n"
     ]
    },
    {
     "name": "stderr",
     "output_type": "stream",
     "text": [
      "Making predictions: 100%|██████████| 5/5 [00:09<00:00,  1.99s/it]\n",
      "Processing batches:  45%|████▌     | 10/22 [01:24<01:43,  8.64s/it]"
     ]
    },
    {
     "name": "stdout",
     "output_type": "stream",
     "text": [
      "💾 Writing batch 10 (5 interactions) to output file...\n",
      "  📊 Batch 10 Stats:\n",
      "      Average Predicted Rating: 4.60\n",
      "      Average True Rating: 4.80\n",
      "      Prediction Error (MAE): 0.20\n",
      "\n",
      "==================================================\n",
      "Processing Batch 11/22 (5 interactions)\n",
      "==================================================\n"
     ]
    },
    {
     "name": "stderr",
     "output_type": "stream",
     "text": [
      "Making predictions: 100%|██████████| 5/5 [00:08<00:00,  1.79s/it]\n",
      "Processing batches:  50%|█████     | 11/22 [01:33<01:36,  8.74s/it]"
     ]
    },
    {
     "name": "stdout",
     "output_type": "stream",
     "text": [
      "💾 Writing batch 11 (5 interactions) to output file...\n",
      "  📊 Batch 11 Stats:\n",
      "      Average Predicted Rating: 4.40\n",
      "      Average True Rating: 5.00\n",
      "      Prediction Error (MAE): 0.60\n",
      "\n",
      "==================================================\n",
      "Processing Batch 12/22 (5 interactions)\n",
      "==================================================\n"
     ]
    },
    {
     "name": "stderr",
     "output_type": "stream",
     "text": [
      "Making predictions: 100%|██████████| 5/5 [00:07<00:00,  1.47s/it]\n",
      "Processing batches:  55%|█████▍    | 12/22 [01:40<01:23,  8.31s/it]"
     ]
    },
    {
     "name": "stdout",
     "output_type": "stream",
     "text": [
      "💾 Writing batch 12 (5 interactions) to output file...\n",
      "  📊 Batch 12 Stats:\n",
      "      Average Predicted Rating: 4.20\n",
      "      Average True Rating: 5.00\n",
      "      Prediction Error (MAE): 0.80\n",
      "\n",
      "==================================================\n",
      "Processing Batch 13/22 (5 interactions)\n",
      "==================================================\n"
     ]
    },
    {
     "name": "stderr",
     "output_type": "stream",
     "text": [
      "Making predictions: 100%|██████████| 5/5 [00:07<00:00,  1.58s/it]\n",
      "Processing batches:  59%|█████▉    | 13/22 [01:48<01:13,  8.19s/it]"
     ]
    },
    {
     "name": "stdout",
     "output_type": "stream",
     "text": [
      "💾 Writing batch 13 (5 interactions) to output file...\n",
      "  📊 Batch 13 Stats:\n",
      "      Average Predicted Rating: 4.20\n",
      "      Average True Rating: 5.00\n",
      "      Prediction Error (MAE): 0.80\n",
      "\n",
      "==================================================\n",
      "Processing Batch 14/22 (5 interactions)\n",
      "==================================================\n"
     ]
    },
    {
     "name": "stderr",
     "output_type": "stream",
     "text": [
      "Making predictions: 100%|██████████| 5/5 [00:07<00:00,  1.43s/it]\n",
      "Processing batches:  64%|██████▎   | 14/22 [01:55<01:03,  7.88s/it]"
     ]
    },
    {
     "name": "stdout",
     "output_type": "stream",
     "text": [
      "💾 Writing batch 14 (5 interactions) to output file...\n",
      "  📊 Batch 14 Stats:\n",
      "      Average Predicted Rating: 4.40\n",
      "      Average True Rating: 4.80\n",
      "      Prediction Error (MAE): 0.40\n",
      "\n",
      "==================================================\n",
      "Processing Batch 15/22 (5 interactions)\n",
      "==================================================\n"
     ]
    },
    {
     "name": "stderr",
     "output_type": "stream",
     "text": [
      "Making predictions: 100%|██████████| 5/5 [00:09<00:00,  1.87s/it]\n",
      "Processing batches:  68%|██████▊   | 15/22 [02:05<00:58,  8.32s/it]"
     ]
    },
    {
     "name": "stdout",
     "output_type": "stream",
     "text": [
      "💾 Writing batch 15 (5 interactions) to output file...\n",
      "  📊 Batch 15 Stats:\n",
      "      Average Predicted Rating: 4.60\n",
      "      Average True Rating: 5.00\n",
      "      Prediction Error (MAE): 0.40\n",
      "\n",
      "==================================================\n",
      "Processing Batch 16/22 (5 interactions)\n",
      "==================================================\n"
     ]
    },
    {
     "name": "stderr",
     "output_type": "stream",
     "text": [
      "Making predictions: 100%|██████████| 5/5 [00:09<00:00,  1.88s/it]\n",
      "Processing batches:  73%|███████▎  | 16/22 [02:14<00:51,  8.65s/it]"
     ]
    },
    {
     "name": "stdout",
     "output_type": "stream",
     "text": [
      "💾 Writing batch 16 (5 interactions) to output file...\n",
      "  📊 Batch 16 Stats:\n",
      "      Average Predicted Rating: 4.60\n",
      "      Average True Rating: 5.00\n",
      "      Prediction Error (MAE): 0.40\n",
      "\n",
      "==================================================\n",
      "Processing Batch 17/22 (5 interactions)\n",
      "==================================================\n"
     ]
    },
    {
     "name": "stderr",
     "output_type": "stream",
     "text": [
      "Making predictions: 100%|██████████| 5/5 [00:10<00:00,  2.18s/it]\n",
      "Processing batches:  77%|███████▋  | 17/22 [02:25<00:46,  9.32s/it]"
     ]
    },
    {
     "name": "stdout",
     "output_type": "stream",
     "text": [
      "💾 Writing batch 17 (5 interactions) to output file...\n",
      "  📊 Batch 17 Stats:\n",
      "      Average Predicted Rating: 3.80\n",
      "      Average True Rating: 5.00\n",
      "      Prediction Error (MAE): 1.20\n",
      "\n",
      "==================================================\n",
      "Processing Batch 18/22 (5 interactions)\n",
      "==================================================\n"
     ]
    },
    {
     "name": "stderr",
     "output_type": "stream",
     "text": [
      "Making predictions: 100%|██████████| 5/5 [00:08<00:00,  1.73s/it]\n",
      "Processing batches:  82%|████████▏ | 18/22 [02:34<00:36,  9.12s/it]"
     ]
    },
    {
     "name": "stdout",
     "output_type": "stream",
     "text": [
      "💾 Writing batch 18 (5 interactions) to output file...\n",
      "  📊 Batch 18 Stats:\n",
      "      Average Predicted Rating: 4.00\n",
      "      Average True Rating: 4.80\n",
      "      Prediction Error (MAE): 0.80\n",
      "\n",
      "==================================================\n",
      "Processing Batch 19/22 (5 interactions)\n",
      "==================================================\n"
     ]
    },
    {
     "name": "stderr",
     "output_type": "stream",
     "text": [
      "Making predictions: 100%|██████████| 5/5 [00:09<00:00,  1.83s/it]\n",
      "Processing batches:  86%|████████▋ | 19/22 [02:43<00:27,  9.13s/it]"
     ]
    },
    {
     "name": "stdout",
     "output_type": "stream",
     "text": [
      "💾 Writing batch 19 (5 interactions) to output file...\n",
      "  📊 Batch 19 Stats:\n",
      "      Average Predicted Rating: 4.00\n",
      "      Average True Rating: 4.80\n",
      "      Prediction Error (MAE): 0.80\n",
      "\n",
      "==================================================\n",
      "Processing Batch 20/22 (5 interactions)\n",
      "==================================================\n"
     ]
    },
    {
     "name": "stderr",
     "output_type": "stream",
     "text": [
      "Making predictions: 100%|██████████| 5/5 [00:08<00:00,  1.75s/it]\n",
      "Processing batches:  91%|█████████ | 20/22 [02:52<00:18,  9.03s/it]"
     ]
    },
    {
     "name": "stdout",
     "output_type": "stream",
     "text": [
      "💾 Writing batch 20 (5 interactions) to output file...\n",
      "  📊 Batch 20 Stats:\n",
      "      Average Predicted Rating: 4.00\n",
      "      Average True Rating: 5.00\n",
      "      Prediction Error (MAE): 1.00\n",
      "\n",
      "==================================================\n",
      "Processing Batch 21/22 (5 interactions)\n",
      "==================================================\n"
     ]
    },
    {
     "name": "stderr",
     "output_type": "stream",
     "text": [
      "Making predictions: 100%|██████████| 5/5 [00:09<00:00,  1.88s/it]\n",
      "Processing batches:  95%|█████████▌| 21/22 [03:01<00:09,  9.14s/it]"
     ]
    },
    {
     "name": "stdout",
     "output_type": "stream",
     "text": [
      "💾 Writing batch 21 (5 interactions) to output file...\n",
      "  📊 Batch 21 Stats:\n",
      "      Average Predicted Rating: 4.60\n",
      "      Average True Rating: 5.00\n",
      "      Prediction Error (MAE): 0.40\n",
      "\n",
      "==================================================\n",
      "Processing Batch 22/22 (5 interactions)\n",
      "==================================================\n"
     ]
    },
    {
     "name": "stderr",
     "output_type": "stream",
     "text": [
      "Making predictions: 100%|██████████| 5/5 [00:08<00:00,  1.77s/it]\n",
      "Processing batches: 100%|██████████| 22/22 [03:10<00:00,  8.66s/it]"
     ]
    },
    {
     "name": "stdout",
     "output_type": "stream",
     "text": [
      "💾 Writing batch 22 (5 interactions) to output file...\n",
      "  📊 Batch 22 Stats:\n",
      "      Average Predicted Rating: 3.80\n",
      "      Average True Rating: 5.00\n",
      "      Prediction Error (MAE): 1.20\n",
      "✓ Direct baseline processing completed successfully!\n",
      "📊 Final Stats:\n",
      "    Total interactions processed: 110\n",
      "    Start index: 0\n",
      "    Overall Average Predicted Rating: 4.11\n",
      "    Overall Average True Rating: 4.89\n",
      "    Overall Prediction Error (MAE): 0.78\n"
     ]
    },
    {
     "name": "stderr",
     "output_type": "stream",
     "text": [
      "\n"
     ]
    }
   ],
   "source": [
    "users = ['u_01','u_06', 'u_08']\n",
    "start_index = 0\n",
    "debug=False\n",
    "batch_size = 5\n",
    "for user in users:\n",
    "\n",
    "    input_jsonl_path = f\"data/input/{user}.jsonl\"\n",
    "    output_jsonl_path = f\"data/output/{user}.jsonl\"\n",
    "    progress_log_path = f\"data/log/{user}.txt\"\n",
    "\n",
    "    run_direct_baseline(\n",
    "    input_jsonl_path=input_jsonl_path,\n",
    "    output_jsonl_path=output_jsonl_path,\n",
    "    start_index=start_index,\n",
    "    llm_client=None,            \n",
    "    batch_size=batch_size,           \n",
    "    debug=debug,\n",
    "    progress_log_path=progress_log_path\n",
    "    )"
   ]
  },
  {
   "cell_type": "code",
   "execution_count": null,
   "id": "36a3e910",
   "metadata": {},
   "outputs": [],
   "source": []
  }
 ],
 "metadata": {
  "kernelspec": {
   "display_name": "llm-project",
   "language": "python",
   "name": "python3"
  },
  "language_info": {
   "codemirror_mode": {
    "name": "ipython",
    "version": 3
   },
   "file_extension": ".py",
   "mimetype": "text/x-python",
   "name": "python",
   "nbconvert_exporter": "python",
   "pygments_lexer": "ipython3",
   "version": "3.11.13"
  }
 },
 "nbformat": 4,
 "nbformat_minor": 5
}
